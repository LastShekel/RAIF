{
 "cells": [
  {
   "cell_type": "code",
   "execution_count": null,
   "metadata": {
    "collapsed": true
   },
   "outputs": [],
   "source": [
    "#import libs\n",
    "import numpy as np\n",
    "import pandas\n",
    "import matplotlib.pyplot as plt\n",
    "import csv\n",
    "from tqdm import tqdm\n",
    "#from tqdm import tqdm_notebook as tqdm\n",
    "import os\n",
    "#!!! if lib is not installed call \"!pip install <libname>\" in jupyter"
   ]
  },
  {
   "cell_type": "code",
   "execution_count": null,
   "metadata": {
    "collapsed": true
   },
   "outputs": [],
   "source": [
    "#import libs\n",
    "# Python 2 and 3 compatibility\n",
    "# pip install future\n",
    "from __future__ import (absolute_import, division,\n",
    "                        print_function, unicode_literals)\n",
    "# отключим предупреждения Anaconda\n",
    "import warnings\n",
    "warnings.simplefilter('ignore')\n",
    "\n",
    "# будем отображать графики прямо в jupyter'e\n",
    "%pylab inline\n",
    "\n",
    "#увеличим дефолтный размер графиков\n",
    "from pylab import rcParams\n",
    "rcParams['figure.figsize'] = 8, 5\n",
    "import seaborn as sns\n",
    "\n",
    "#!!! if lib is not installed call \"!pip install <libname>\" in jupyter"
   ]
  },
  {
   "cell_type": "code",
   "execution_count": null,
   "metadata": {
    "collapsed": true
   },
   "outputs": [],
   "source": [
    "#copy from here\n",
    "labels = {'TRN_CNT_AVIA','TRN_CNT_ASRV','TRN_CNT_APTK','TRN_CNT_AURT','TRN_CNT_GSRV','TRN_CNT_DOMS','TRN_CNT_OTHR',\n",
    "'TRN_CNT_ZHDT','TRN_CNT_ZOOS','TRN_CNT_GAME','TRN_CNT_ARTS','TRN_CNT_KCSH','TRN_CNT_KINO','TRN_CNT_BOOK','TRN_CNT_CMSV',\n",
    "'TRN_CNT_BEAU','TRN_CNT_MEDC','TRN_CNT_MUSC','TRN_CNT_EDUC','TRN_CNT_CLTH','TRN_CNT_HOTL','TRN_CNT_ENTR','TRN_CNT_RSTR',\n",
    "'TRN_CNT_SPRT','TRN_CNT_SUPM','TRN_CNT_TELE','TRN_CNT_FUEL','TRN_CNT_TRAN','TRN_CNT_FLOW','TRN_CNT_JEWL','TRN_CNT_DUTF',\n",
    "'TRN_AMNT_AVIA','TRN_AMNT_ASRV','TRN_AMNT_APTK','TRN_AMNT_AURT','TRN_AMNT_GSRV','TRN_AMNT_DOMS','TRN_AMNT_OTHR',\n",
    "'TRN_AMNT_ZHDT','TRN_AMNT_ZOOS','TRN_AMNT_GAME','TRN_AMNT_ARTS','TRN_AMNT_KCSH','TRN_AMNT_KINO','TRN_AMNT_BOOK',\n",
    "'TRN_AMNT_CMSV','TRN_AMNT_BEAU','TRN_AMNT_MEDC','TRN_AMNT_MUSC','TRN_AMNT_EDUC','TRN_AMNT_CLTH','TRN_AMNT_HOTL',\n",
    "'TRN_AMNT_ENTR','TRN_AMNT_RSTR','TRN_AMNT_SPRT','TRN_AMNT_SUPM','TRN_AMNT_TELE','TRN_AMNT_FUEL','TRN_AMNT_TRAN',\n",
    "'TRN_AMNT_FLOW','TRN_AMNT_JEWL','TRN_AMNT_DUTF',\n",
    "'DBO_PAY_CNT_MOBL','DBO_PAY_CNT_ZHKH','DBO_PAY_CNT_COMS','DBO_PAY_CNT_EDUC','DBO_PAY_CNT_WALT','DBO_PAY_CNT_CREDS',\n",
    "'DBO_PAY_CNT_GOSP','DBO_PAY_CNT_INSH','DBO_PAY_CNT_MLM','DBO_PAY_CNT_OTHR',\n",
    "'DBO_PAY_AMNT_MOBL','DBO_PAY_AMNT_ZHKH','DBO_PAY_AMNT_COMS','DBO_PAY_AMNT_EDUC','DBO_PAY_AMNT_WALT','DBO_PAY_AMNT_CREDS',\n",
    "'DBO_PAY_AMNT_GOSP','DBO_PAY_AMNT_INSH','DBO_PAY_AMNT_MLM','DBO_PAY_AMNT_OTHR'\n",
    "}"
   ]
  },
  {
   "cell_type": "code",
   "execution_count": null,
   "metadata": {
    "collapsed": true
   },
   "outputs": [],
   "source": [
    "dfheat = pandas.read_csv('t1.csv',sep=\";|,\", engine=\"python\")\n",
    "dfclients = pandas.read_csv('t4.csv',sep=\";|,\", engine=\"python\",encoding=\"utf-8\")\n",
    "\n",
    "#next line because 'CLIENT_HASH_ID' in dfheat is surrounded with double quotes, but in dfclients it does not\n",
    "dfclients['CLIENT_HASH_ID']='\"' + dfclients['CLIENT_HASH_ID'] + '\"'\n",
    "\n",
    "dfheat['GENDER'] = dfheat.CLIENT_HASH_ID.map(dfclients.set_index('CLIENT_HASH_ID')['GENDER'].to_dict())\n",
    "dfheat['F1'] = dfheat.CLIENT_HASH_ID.map(dfclients.set_index('CLIENT_HASH_ID')['F1'].to_dict())\n",
    "dfheat['AGE'] = dfheat.CLIENT_HASH_ID.map(dfclients.set_index('CLIENT_HASH_ID')['AGE'].to_dict())"
   ]
  },
  {
   "cell_type": "code",
   "execution_count": null,
   "metadata": {
    "collapsed": true
   },
   "outputs": [],
   "source": [
    "dfheat = dfheat.loc[dfheat['ACTIVE_FLAG']==1]"
   ]
  },
  {
   "cell_type": "code",
   "execution_count": null,
   "metadata": {
    "collapsed": true
   },
   "outputs": [],
   "source": [
    "for month in unique(dfheat['REPORT_MONTH']):\n",
    "    d = dfheat.loc[dfheat['REPORT_MONTH']==month]\n",
    "    d.to_csv(month.strip('\"').split(' ')[0]+\"Active.csv\")"
   ]
  },
  {
   "cell_type": "code",
   "execution_count": null,
   "metadata": {
    "collapsed": true
   },
   "outputs": [],
   "source": [
    "months = ['\"2015-01-01 00:00:00\"', '\"2015-02-01 00:00:00\"',\n",
    "       '\"2015-03-01 00:00:00\"', '\"2015-04-01 00:00:00\"',\n",
    "       '\"2015-05-01 00:00:00\"', '\"2015-06-01 00:00:00\"',\n",
    "       '\"2015-07-01 00:00:00\"', '\"2015-08-01 00:00:00\"',\n",
    "       '\"2015-09-01 00:00:00\"', '\"2015-10-01 00:00:00\"',\n",
    "       '\"2015-11-01 00:00:00\"', '\"2015-12-01 00:00:00\"',\n",
    "       '\"2016-01-01 00:00:00\"', '\"2016-02-01 00:00:00\"',\n",
    "       '\"2016-03-01 00:00:00\"', '\"2016-04-01 00:00:00\"',\n",
    "       '\"2016-05-01 00:00:00\"', '\"2016-06-01 00:00:00\"',\n",
    "       '\"2016-07-01 00:00:00\"']"
   ]
  },
  {
   "cell_type": "code",
   "execution_count": null,
   "metadata": {
    "collapsed": true
   },
   "outputs": [],
   "source": [
    "marketing_classes = [nan, '018d34d8d97fe30fd4347602b8031ec4',\n",
    "       '0e521f30657448f205ecf7a46e4105c0',\n",
    "       '1254981c914a2f3b05de147071f7e9d9',\n",
    "       '14aa590a6630a7dd9a4233b8b8182100',\n",
    "       '1ca2d30ce0631cee23b98dfc2d24bdcf',\n",
    "       '263c6b32daca30743034adbd1f68a5fc',\n",
    "       '309e6b5acaa01d889ed303cf65a72dbe',\n",
    "       '381b0b043094c8cf1fc0e5ecd17a4461',\n",
    "       '385043f3881c79a5959ab4c3145f8aa8',\n",
    "       '3c423cf4f2bdd61e4dc739b26d945709',\n",
    "       '3dfbcfdf96da35c17688cd96b5a94578',\n",
    "       '5213e792098c90e356b18861f64570af',\n",
    "       '6ede6f872f8d56aa83876b96bcde60d4',\n",
    "       '71e1e42d79887c04b571828357d5f37e',\n",
    "       '7d33c54b3363042d090cb011b215279c',\n",
    "       '8215444bab327ec0f170d0ef7296c026',\n",
    "       '8df3acb67e47faaeb753cc9a4c6ced3e',\n",
    "       '94a7532568244c10541472dffb66f1f1',\n",
    "       '95f6593eafb80e2b9d138cbee39c89b0',\n",
    "       '96ef29bcab993c1a6eff79d066cfe894',\n",
    "       '974e283779718b032e7845eda467b157',\n",
    "       '97fa64500457edb6fe17b0acdaf218b2',\n",
    "       'a1fffaa77ff30165958613b698dc8fd5',\n",
    "       'ac02849f665b4380fc99f9d0e335d076',\n",
    "       'b628d7d2ba91a097a131c51788e8c4ea',\n",
    "       'b871449af47f30db11ef29b52e39819d',\n",
    "       'bac64815dc7b441809c1d4de833ef9fd',\n",
    "       'db96a8c8cf0715541dd5d9fd96529ac4',\n",
    "       'ea77621ec0b8418bfa7b81253ab7d321',\n",
    "       'fe413a3ae1fa1e6e1b7508863bf7ad0d']"
   ]
  },
  {
   "cell_type": "code",
   "execution_count": null,
   "metadata": {
    "collapsed": true
   },
   "outputs": [],
   "source": [
    "for month in tqdm(months):\n",
    "    dfheat = pandas.read_csv(os.getcwd()+\"\\\\CSV\\\\\"+ month.strip('\"').split(' ')[0]+\"Active.csv\" ,sep=\";|,\", engine=\"python\")\n",
    "    dict={}\n",
    "    for cat in tqdm(marketing_classes):\n",
    "        dict[cat]={}\n",
    "        for trtype in labels:\n",
    "            dict[cat][trtype] = 0\n",
    "            \n",
    "    for index, row in tqdm(dfheat.iterrows()):\n",
    "        for trtype in labels:\n",
    "            dict[row['F1']][trtype] += row[trtype]\n",
    "            \n",
    "    df = pandas.DataFrame(columns=('type', 'F1', 'val'))\n",
    "    for cat in tqdm(dict):\n",
    "        for type in dict[cat]:\n",
    "            df.loc[len(df)] = [type, cat, dict[cat][type]]\n",
    "    df.to_csv(os.getcwd()+\"\\\\CSV\\\\heatcsv\\\\\"+month.strip('\"').split(' ')[0]+\"ActiveHeat.csv\")   "
   ]
  },
  {
   "cell_type": "code",
   "execution_count": null,
   "metadata": {
    "collapsed": true
   },
   "outputs": [],
   "source": [
    "for month in tqdm(months):\n",
    "    df = pandas.read_csv(os.getcwd()+\"\\\\CSV\\\\heatcsv\\\\\"+month.strip('\"').split(' ')[0]+\"ActiveHeat.csv\")\n",
    "    ############################\n",
    "    #print TRN_CNT heatmap\n",
    "    #selected columns\n",
    "    coltest = ['TRN_CNT_AVIA','TRN_CNT_ASRV','TRN_CNT_APTK','TRN_CNT_AURT','TRN_CNT_GSRV','TRN_CNT_DOMS','TRN_CNT_OTHR',\n",
    "    'TRN_CNT_ZHDT','TRN_CNT_ZOOS','TRN_CNT_GAME','TRN_CNT_ARTS','TRN_CNT_KCSH','TRN_CNT_KINO','TRN_CNT_BOOK','TRN_CNT_CMSV',\n",
    "    'TRN_CNT_BEAU','TRN_CNT_MEDC','TRN_CNT_MUSC','TRN_CNT_EDUC','TRN_CNT_CLTH','TRN_CNT_HOTL','TRN_CNT_ENTR','TRN_CNT_RSTR',\n",
    "    'TRN_CNT_SPRT','TRN_CNT_SUPM','TRN_CNT_TELE','TRN_CNT_FUEL','TRN_CNT_TRAN','TRN_CNT_FLOW','TRN_CNT_JEWL','TRN_CNT_DUTF'\n",
    "    ]\n",
    "    #dftest is a part of dataset created above\n",
    "    dftest = pandas.DataFrame(columns=('type', 'F1', 'val'))\n",
    "    \n",
    "    for index, row in tqdm(df.iterrows()):\n",
    "        if(row['type'] in coltest):\n",
    "            dftest.loc[len(dftest)] = row\n",
    "            continue\n",
    "            \n",
    "    #plot heatmap   \n",
    "    fig, ax = plt.subplots(figsize=(40,40)) \n",
    "    platform_genre_sales = dftest.pivot_table(\n",
    "                            index='type', \n",
    "                            columns='F1', \n",
    "                            values='val', \n",
    "                            aggfunc=sum).fillna(0).applymap(float)\n",
    "    sns.heatmap(platform_genre_sales, annot=True, fmt=\".1f\", linewidths=.5, ax=ax, cmap=\"nipy_spectral\")\n",
    "    fig.savefig(os.getcwd()+\"\\\\Maps\\\\TRN_CNT\\\\\"+month.strip('\"').split(' ')[0]+\"_TRN_CNT.png\")\n",
    "    ############################\n",
    "    #print TRN_AMN heatmap\n",
    "    #selected columns\n",
    "    coltest = ['TRN_AMNT_AVIA','TRN_AMNT_ASRV','TRN_AMNT_APTK','TRN_AMNT_AURT','TRN_AMNT_GSRV','TRN_AMNT_DOMS','TRN_AMNT_OTHR',\n",
    "    'TRN_AMNT_ZHDT','TRN_AMNT_ZOOS','TRN_AMNT_GAME','TRN_AMNT_ARTS','TRN_AMNT_KCSH','TRN_AMNT_KINO','TRN_AMNT_BOOK',\n",
    "    'TRN_AMNT_CMSV','TRN_AMNT_BEAU','TRN_AMNT_MEDC','TRN_AMNT_MUSC','TRN_AMNT_EDUC','TRN_AMNT_CLTH','TRN_AMNT_HOTL',\n",
    "    'TRN_AMNT_ENTR','TRN_AMNT_RSTR','TRN_AMNT_SPRT','TRN_AMNT_SUPM','TRN_AMNT_TELE','TRN_AMNT_FUEL','TRN_AMNT_TRAN',\n",
    "    'TRN_AMNT_FLOW','TRN_AMNT_JEWL','TRN_AMNT_DUTF'\n",
    "    ]\n",
    "    #dftest is a part of dataset created above\n",
    "    dftest = pandas.DataFrame(columns=('type', 'F1', 'val'))\n",
    "    \n",
    "    for index, row in tqdm(df.iterrows()):\n",
    "        if(row['type'] in coltest):\n",
    "            dftest.loc[len(dftest)] = row\n",
    "            continue\n",
    "    #plot heatmap   \n",
    "    fig, ax = plt.subplots(figsize=(50,40)) \n",
    "    platform_genre_sales = dftest.pivot_table(\n",
    "                            index='type', \n",
    "                            columns='F1', \n",
    "                            values='val', \n",
    "                            aggfunc=sum).fillna(0).applymap(float)\n",
    "    sns.heatmap(platform_genre_sales, annot=True, fmt=\".1f\", linewidths=.5, ax=ax, cmap=\"nipy_spectral\")\n",
    "    fig.savefig(os.getcwd()+\"\\\\Maps\\\\TRN_AMNT\\\\\"+month.strip('\"').split(' ')[0]+'_TRN_AMNT.png')\n",
    "    ############################\n",
    "    #print DBO_CNT heatmap\n",
    "    #selected columns\n",
    "    coltest = ['DBO_PAY_CNT_MOBL','DBO_PAY_CNT_ZHKH','DBO_PAY_CNT_COMS','DBO_PAY_CNT_EDUC','DBO_PAY_CNT_WALT','DBO_PAY_CNT_CREDS',\n",
    "    'DBO_PAY_CNT_GOSP','DBO_PAY_CNT_INSH','DBO_PAY_CNT_MLM','DBO_PAY_CNT_OTHR',\n",
    "    ]\n",
    "    #dftest is a part of dataset created above\n",
    "    dftest = pandas.DataFrame(columns=('type', 'F1', 'val'))\n",
    "    \n",
    "    for index, row in tqdm(df.iterrows()):\n",
    "        if(row['type'] in coltest):\n",
    "            dftest.loc[len(dftest)] = row\n",
    "            continue\n",
    "    #plot heatmap   \n",
    "    fig, ax = plt.subplots(figsize=(40,30)) \n",
    "    platform_genre_sales = dftest.pivot_table(\n",
    "                            index='type', \n",
    "                            columns='F1', \n",
    "                            values='val', \n",
    "                            aggfunc=sum).fillna(0).applymap(float)\n",
    "    sns.heatmap(platform_genre_sales, annot=True, fmt=\".1f\", linewidths=.5, ax=ax, cmap=\"nipy_spectral\")\n",
    "    fig.savefig(os.getcwd()+\"\\\\Maps\\\\DBO_CNT\\\\\"+month.strip('\"').split(' ')[0]+\"_DBO_CNT.png\")\n",
    "    ############################\n",
    "    #print DBO_AMNT heatmap\n",
    "    #selected columns\n",
    "    coltest = ['DBO_PAY_AMNT_MOBL','DBO_PAY_AMNT_ZHKH','DBO_PAY_AMNT_COMS','DBO_PAY_AMNT_EDUC','DBO_PAY_AMNT_WALT','DBO_PAY_AMNT_CREDS',\n",
    "    'DBO_PAY_AMNT_GOSP','DBO_PAY_AMNT_INSH','DBO_PAY_AMNT_MLM','DBO_PAY_AMNT_OTHR'\n",
    "    ]\n",
    "    #dftest is a part of dataset created above\n",
    "    dftest = pandas.DataFrame(columns=('type', 'F1', 'val'))\n",
    "    \n",
    "    for index, row in tqdm(df.iterrows()):\n",
    "        if(row['type'] in coltest):\n",
    "            dftest.loc[len(dftest)] = row\n",
    "            continue\n",
    "    #plot heatmap   \n",
    "    fig, ax = plt.subplots(figsize=(40,30)) \n",
    "    platform_genre_sales = dftest.pivot_table(\n",
    "                            index='type', \n",
    "                            columns='F1', \n",
    "                            values='val', \n",
    "                            aggfunc=sum).fillna(0).applymap(float)\n",
    "    sns.heatmap(platform_genre_sales, annot=True, fmt=\".1f\", linewidths=.5, ax=ax, cmap=\"nipy_spectral\")\n",
    "    fig.savefig(os.getcwd()+\"\\\\Maps\\\\DBO_AMNT\\\\\"+month.strip('\"').split(' ')[0]+\"_DBO_AMNT.png\")"
   ]
  }
 ],
 "metadata": {
  "kernelspec": {
   "display_name": "Python [conda root]",
   "language": "python",
   "name": "conda-root-py"
  },
  "language_info": {
   "codemirror_mode": {
    "name": "ipython",
    "version": 2
   },
   "file_extension": ".py",
   "mimetype": "text/x-python",
   "name": "python",
   "nbconvert_exporter": "python",
   "pygments_lexer": "ipython2",
   "version": "2.7.12"
  }
 },
 "nbformat": 4,
 "nbformat_minor": 1
}
