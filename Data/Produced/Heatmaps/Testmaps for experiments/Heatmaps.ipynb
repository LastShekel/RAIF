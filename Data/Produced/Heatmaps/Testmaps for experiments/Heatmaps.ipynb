{
 "cells": [
  {
   "cell_type": "code",
   "execution_count": 1,
   "metadata": {
    "collapsed": true
   },
   "outputs": [],
   "source": [
    "#import libs\n",
    "import numpy as np\n",
    "import pandas\n",
    "import matplotlib.pyplot as plt\n",
    "import csv\n",
    "from tqdm import tqdm\n",
    "\n",
    "#!!! if lib is not installed call \"!pip install <libname>\" in jupyter"
   ]
  },
  {
   "cell_type": "code",
   "execution_count": null,
   "metadata": {
    "collapsed": true
   },
   "outputs": [],
   "source": [
    "#import libs\n",
    "# Python 2 and 3 compatibility\n",
    "# pip install future\n",
    "from __future__ import (absolute_import, division,\n",
    "                        print_function, unicode_literals)\n",
    "# отключим предупреждения Anaconda\n",
    "import warnings\n",
    "warnings.simplefilter('ignore')\n",
    "\n",
    "# будем отображать графики прямо в jupyter'e\n",
    "%pylab inline\n",
    "\n",
    "#увеличим дефолтный размер графиков\n",
    "from pylab import rcParams\n",
    "rcParams['figure.figsize'] = 8, 5\n",
    "import seaborn as sns\n",
    "\n",
    "#!!! if lib is not installed call \"!pip install <libname>\" in jupyter"
   ]
  },
  {
   "cell_type": "code",
   "execution_count": null,
   "metadata": {
    "collapsed": true
   },
   "outputs": [],
   "source": [
    "#copy from here\n",
    "labels = {'TRN_CNT_AVIA','TRN_CNT_ASRV','TRN_CNT_APTK','TRN_CNT_AURT','TRN_CNT_GSRV','TRN_CNT_DOMS','TRN_CNT_OTHR',\n",
    "'TRN_CNT_ZHDT','TRN_CNT_ZOOS','TRN_CNT_GAME','TRN_CNT_ARTS','TRN_CNT_KCSH','TRN_CNT_KINO','TRN_CNT_BOOK','TRN_CNT_CMSV',\n",
    "'TRN_CNT_BEAU','TRN_CNT_MEDC','TRN_CNT_MUSC','TRN_CNT_EDUC','TRN_CNT_CLTH','TRN_CNT_HOTL','TRN_CNT_ENTR','TRN_CNT_RSTR',\n",
    "'TRN_CNT_SPRT','TRN_CNT_SUPM','TRN_CNT_TELE','TRN_CNT_FUEL','TRN_CNT_TRAN','TRN_CNT_FLOW','TRN_CNT_JEWL','TRN_CNT_DUTF',\n",
    "'TRN_AMNT_AVIA','TRN_AMNT_ASRV','TRN_AMNT_APTK','TRN_AMNT_AURT','TRN_AMNT_GSRV','TRN_AMNT_DOMS','TRN_AMNT_OTHR',\n",
    "'TRN_AMNT_ZHDT','TRN_AMNT_ZOOS','TRN_AMNT_GAME','TRN_AMNT_ARTS','TRN_AMNT_KCSH','TRN_AMNT_KINO','TRN_AMNT_BOOK',\n",
    "'TRN_AMNT_CMSV','TRN_AMNT_BEAU','TRN_AMNT_MEDC','TRN_AMNT_MUSC','TRN_AMNT_EDUC','TRN_AMNT_CLTH','TRN_AMNT_HOTL',\n",
    "'TRN_AMNT_ENTR','TRN_AMNT_RSTR','TRN_AMNT_SPRT','TRN_AMNT_SUPM','TRN_AMNT_TELE','TRN_AMNT_FUEL','TRN_AMNT_TRAN',\n",
    "'TRN_AMNT_FLOW','TRN_AMNT_JEWL','TRN_AMNT_DUTF',\n",
    "'DBO_PAY_CNT_MOBL','DBO_PAY_CNT_ZHKH','DBO_PAY_CNT_COMS','DBO_PAY_CNT_EDUC','DBO_PAY_CNT_WALT','DBO_PAY_CNT_CREDS',\n",
    "'DBO_PAY_CNT_GOSP','DBO_PAY_CNT_INSH','DBO_PAY_CNT_MLM','DBO_PAY_CNT_OTHR',\n",
    "'DBO_PAY_AMNT_MOBL','DBO_PAY_AMNT_ZHKH','DBO_PAY_AMNT_COMS','DBO_PAY_AMNT_EDUC','DBO_PAY_AMNT_WALT','DBO_PAY_AMNT_CREDS',\n",
    "'DBO_PAY_AMNT_GOSP','DBO_PAY_AMNT_INSH','DBO_PAY_AMNT_MLM','DBO_PAY_AMNT_OTHR'\n",
    "}"
   ]
  },
  {
   "cell_type": "code",
   "execution_count": null,
   "metadata": {
    "collapsed": true
   },
   "outputs": [],
   "source": [
    "#reading and merging t1 and t4\n",
    "#!!!in t4.csv Gender values manually changed from {М,Ж} to {M,F}!!!\n",
    "dfheat = pandas.read_csv('t1.csv',sep=\";|,\", engine=\"python\")\n",
    "dfclients = pandas.read_csv('t4.csv',sep=\";|,\", engine=\"python\",encoding=\"utf-8\")\n",
    "\n",
    "#next line because 'CLIENT_HASH_ID' in dfheat is surrounded with double quotes, but in dfclients it does not\n",
    "dfclients['CLIENT_HASH_ID']='\"' + dfclients['CLIENT_HASH_ID'] + '\"'\n",
    "\n",
    "dfheat['GENDER'] = dfheat.CLIENT_HASH_ID.map(dfclients.set_index('CLIENT_HASH_ID')['GENDER'].to_dict())\n",
    "dfheat['F1'] = dfheat.CLIENT_HASH_ID.map(dfclients.set_index('CLIENT_HASH_ID')['F1'].to_dict())\n",
    "dfheat['AGE'] = dfheat.CLIENT_HASH_ID.map(dfclients.set_index('CLIENT_HASH_ID')['AGE'].to_dict())"
   ]
  },
  {
   "cell_type": "code",
   "execution_count": null,
   "metadata": {
    "collapsed": true
   },
   "outputs": [],
   "source": [
    "#creating dataframe for heatmaps part 1\n",
    "#Creating dictionary that will represent our dataframe for heatmap\n",
    "#trtype=\"one of 'labels' found above\"; cat=\"User Marketing segment\"\n",
    "dict={}\n",
    "for cat in tqdm(unique(dfheat['F1'])):\n",
    "    dict[cat]={}\n",
    "    for trtype in col:\n",
    "        dict[cat][trtype] = 0"
   ]
  },
  {
   "cell_type": "code",
   "execution_count": null,
   "metadata": {
    "collapsed": true
   },
   "outputs": [],
   "source": [
    "#creating dataframe for heatmaps part 2\n",
    "#increasing values in our dictionary fron zero to values in dataframe\n",
    "for index, row in tqdm(dfheat.iterrows()):\n",
    "    for trtype in col:\n",
    "        dict[row['F1']][trtype] += row[trtype]"
   ]
  },
  {
   "cell_type": "code",
   "execution_count": null,
   "metadata": {
    "collapsed": true
   },
   "outputs": [],
   "source": [
    "#creating dataframe for heatmaps part 3\n",
    "#transform our dictionary to dataframe\n",
    "#type=\"one of 'labels' found above\"; F1=\"User Marketing segment\"; val=\"value for heatmap\"\n",
    "df = pandas.DataFrame(columns=('type', 'F1', 'val'))\n",
    "for cat in tqdm(dict):\n",
    "    for type in dict[cat]:\n",
    "        df.loc[len(df)] = [type, cat, dict[cat][type]]"
   ]
  },
  {
   "cell_type": "code",
   "execution_count": 2,
   "metadata": {
    "collapsed": true
   },
   "outputs": [],
   "source": [
    "#You can skip first part and load supplied dataset\n",
    "\n",
    "#df=pandas.pandas.read_csv('heat.csv')"
   ]
  },
  {
   "cell_type": "code",
   "execution_count": null,
   "metadata": {
    "collapsed": true
   },
   "outputs": [],
   "source": [
    "#print TRN_CNT heatmap\n",
    "#selected columns\n",
    "coltest = ['TRN_CNT_AVIA','TRN_CNT_ASRV','TRN_CNT_APTK','TRN_CNT_AURT','TRN_CNT_GSRV','TRN_CNT_DOMS','TRN_CNT_OTHR',\n",
    "'TRN_CNT_ZHDT','TRN_CNT_ZOOS','TRN_CNT_GAME','TRN_CNT_ARTS','TRN_CNT_KCSH','TRN_CNT_KINO','TRN_CNT_BOOK','TRN_CNT_CMSV',\n",
    "'TRN_CNT_BEAU','TRN_CNT_MEDC','TRN_CNT_MUSC','TRN_CNT_EDUC','TRN_CNT_CLTH','TRN_CNT_HOTL','TRN_CNT_ENTR','TRN_CNT_RSTR',\n",
    "'TRN_CNT_SPRT','TRN_CNT_SUPM','TRN_CNT_TELE','TRN_CNT_FUEL','TRN_CNT_TRAN','TRN_CNT_FLOW','TRN_CNT_JEWL','TRN_CNT_DUTF'\n",
    "]\n",
    "#dftest is a part of dataset created above\n",
    "dftest = pandas.DataFrame(columns=('type', 'F1', 'val'))\n",
    "\n",
    "for index, row in tqdm(df.iterrows()):\n",
    "    if(row['type'] in coltest):\n",
    "        dftest.loc[len(dftest)] = row\n",
    "        continue\n",
    "        \n",
    "#plot heatmap   \n",
    "fig, ax = plt.subplots(figsize=(40,40)) \n",
    "platform_genre_sales = dftest.pivot_table(\n",
    "                        index='type', \n",
    "                        columns='F1', \n",
    "                        values='val', \n",
    "                        aggfunc=sum).fillna(0).applymap(float)\n",
    "sns.heatmap(platform_genre_sales, annot=True, fmt=\".1f\", linewidths=.5, ax=ax, cmap=\"nipy_spectral\")\n",
    "fig.savefig('TRN_CNT.png')"
   ]
  },
  {
   "cell_type": "code",
   "execution_count": null,
   "metadata": {
    "collapsed": true
   },
   "outputs": [],
   "source": [
    "#print TRN_AMN heatmap\n",
    "#selected columns\n",
    "coltest = ['TRN_AMNT_AVIA','TRN_AMNT_ASRV','TRN_AMNT_APTK','TRN_AMNT_AURT','TRN_AMNT_GSRV','TRN_AMNT_DOMS','TRN_AMNT_OTHR',\n",
    "'TRN_AMNT_ZHDT','TRN_AMNT_ZOOS','TRN_AMNT_GAME','TRN_AMNT_ARTS','TRN_AMNT_KCSH','TRN_AMNT_KINO','TRN_AMNT_BOOK',\n",
    "'TRN_AMNT_CMSV','TRN_AMNT_BEAU','TRN_AMNT_MEDC','TRN_AMNT_MUSC','TRN_AMNT_EDUC','TRN_AMNT_CLTH','TRN_AMNT_HOTL',\n",
    "'TRN_AMNT_ENTR','TRN_AMNT_RSTR','TRN_AMNT_SPRT','TRN_AMNT_SUPM','TRN_AMNT_TELE','TRN_AMNT_FUEL','TRN_AMNT_TRAN',\n",
    "'TRN_AMNT_FLOW','TRN_AMNT_JEWL','TRN_AMNT_DUTF'\n",
    "]\n",
    "#dftest is a part of dataset created above\n",
    "dftest = pandas.DataFrame(columns=('type', 'F1', 'val'))\n",
    "\n",
    "for index, row in tqdm(df.iterrows()):\n",
    "    if(row['type'] in coltest):\n",
    "        dftest.loc[len(dftest)] = row\n",
    "        continue\n",
    "#plot heatmap   \n",
    "fig, ax = plt.subplots(figsize=(50,40)) \n",
    "platform_genre_sales = dftest.pivot_table(\n",
    "                        index='type', \n",
    "                        columns='F1', \n",
    "                        values='val', \n",
    "                        aggfunc=sum).fillna(0).applymap(float)\n",
    "sns.heatmap(platform_genre_sales, annot=True, fmt=\".1f\", linewidths=.5, ax=ax, cmap=\"nipy_spectral\")\n",
    "fig.savefig('TRN_AMN.png')"
   ]
  },
  {
   "cell_type": "code",
   "execution_count": null,
   "metadata": {
    "collapsed": true
   },
   "outputs": [],
   "source": [
    "#print DBO_CNT heatmap\n",
    "#selected columns\n",
    "coltest = ['DBO_PAY_CNT_MOBL','DBO_PAY_CNT_ZHKH','DBO_PAY_CNT_COMS','DBO_PAY_CNT_EDUC','DBO_PAY_CNT_WALT','DBO_PAY_CNT_CREDS',\n",
    "'DBO_PAY_CNT_GOSP','DBO_PAY_CNT_INSH','DBO_PAY_CNT_MLM','DBO_PAY_CNT_OTHR',\n",
    "]\n",
    "#dftest is a part of dataset created above\n",
    "dftest = pandas.DataFrame(columns=('type', 'F1', 'val'))\n",
    "\n",
    "for index, row in tqdm(df.iterrows()):\n",
    "    if(row['type'] in coltest):\n",
    "        dftest.loc[len(dftest)] = row\n",
    "        continue\n",
    "#plot heatmap   \n",
    "fig, ax = plt.subplots(figsize=(40,30)) \n",
    "platform_genre_sales = dftest.pivot_table(\n",
    "                        index='type', \n",
    "                        columns='F1', \n",
    "                        values='val', \n",
    "                        aggfunc=sum).fillna(0).applymap(float)\n",
    "sns.heatmap(platform_genre_sales, annot=True, fmt=\".1f\", linewidths=.5, ax=ax, cmap=\"nipy_spectral\")\n",
    "fig.savefig('DBO_CNT.png')"
   ]
  },
  {
   "cell_type": "code",
   "execution_count": null,
   "metadata": {
    "collapsed": true
   },
   "outputs": [],
   "source": [
    "#print DBO_AMNT heatmap\n",
    "#selected columns\n",
    "coltest = ['DBO_PAY_AMNT_MOBL','DBO_PAY_AMNT_ZHKH','DBO_PAY_AMNT_COMS','DBO_PAY_AMNT_EDUC','DBO_PAY_AMNT_WALT','DBO_PAY_AMNT_CREDS',\n",
    "'DBO_PAY_AMNT_GOSP','DBO_PAY_AMNT_INSH','DBO_PAY_AMNT_MLM','DBO_PAY_AMNT_OTHR'\n",
    "]\n",
    "#dftest is a part of dataset created above\n",
    "dftest = pandas.DataFrame(columns=('type', 'F1', 'val'))\n",
    "\n",
    "for index, row in tqdm(df.iterrows()):\n",
    "    if(row['type'] in coltest):\n",
    "        dftest.loc[len(dftest)] = row\n",
    "        continue\n",
    "#plot heatmap   \n",
    "fig, ax = plt.subplots(figsize=(40,30)) \n",
    "platform_genre_sales = dftest.pivot_table(\n",
    "                        index='type', \n",
    "                        columns='F1', \n",
    "                        values='val', \n",
    "                        aggfunc=sum).fillna(0).applymap(float)\n",
    "sns.heatmap(platform_genre_sales, annot=True, fmt=\".1f\", linewidths=.5, ax=ax, cmap=\"nipy_spectral\")\n",
    "fig.savefig('DBO_AMNT.png')"
   ]
  }
 ],
 "metadata": {
  "kernelspec": {
   "display_name": "Python [conda root]",
   "language": "python",
   "name": "conda-root-py"
  },
  "language_info": {
   "codemirror_mode": {
    "name": "ipython",
    "version": 2
   },
   "file_extension": ".py",
   "mimetype": "text/x-python",
   "name": "python",
   "nbconvert_exporter": "python",
   "pygments_lexer": "ipython2",
   "version": "2.7.12"
  }
 },
 "nbformat": 4,
 "nbformat_minor": 1
}
