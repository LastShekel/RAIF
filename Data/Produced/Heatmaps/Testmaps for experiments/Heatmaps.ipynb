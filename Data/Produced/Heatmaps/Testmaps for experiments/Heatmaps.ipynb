{
 "cells": [
  {
   "cell_type": "code",
   "execution_count": 1,
   "metadata": {
    "collapsed": true
   },
   "outputs": [],
   "source": [
    "#import libs\n",
    "import numpy as np\n",
    "import pandas\n",
    "import matplotlib.pyplot as plt\n",
    "import csv\n",
    "from tqdm import tqdm_notebook as tqdm\n",
    "import os\n",
    "#!!! if lib is not installed call \"!pip install <libname>\" in jupyter"
   ]
  },
  {
   "cell_type": "code",
   "execution_count": 2,
   "metadata": {
    "collapsed": false
   },
   "outputs": [
    {
     "name": "stdout",
     "output_type": "stream",
     "text": [
      "Populating the interactive namespace from numpy and matplotlib\n"
     ]
    }
   ],
   "source": [
    "#import libs\n",
    "# Python 2 and 3 compatibility\n",
    "# pip install future\n",
    "from __future__ import (absolute_import, division,\n",
    "                        print_function, unicode_literals)\n",
    "# отключим предупреждения Anaconda\n",
    "import warnings\n",
    "warnings.simplefilter('ignore')\n",
    "\n",
    "# будем отображать графики прямо в jupyter'e\n",
    "%pylab inline\n",
    "\n",
    "#увеличим дефолтный размер графиков\n",
    "from pylab import rcParams\n",
    "rcParams['figure.figsize'] = 8, 5\n",
    "import seaborn as sns\n",
    "\n",
    "#!!! if lib is not installed call \"!pip install <libname>\" in jupyter"
   ]
  },
  {
   "cell_type": "code",
   "execution_count": 3,
   "metadata": {
    "collapsed": true
   },
   "outputs": [],
   "source": [
    "#copy from here\n",
    "labels = {'TRN_CNT_AVIA','TRN_CNT_ASRV','TRN_CNT_APTK','TRN_CNT_AURT','TRN_CNT_GSRV','TRN_CNT_DOMS','TRN_CNT_OTHR',\n",
    "'TRN_CNT_ZHDT','TRN_CNT_ZOOS','TRN_CNT_GAME','TRN_CNT_ARTS','TRN_CNT_KCSH','TRN_CNT_KINO','TRN_CNT_BOOK','TRN_CNT_CMSV',\n",
    "'TRN_CNT_BEAU','TRN_CNT_MEDC','TRN_CNT_MUSC','TRN_CNT_EDUC','TRN_CNT_CLTH','TRN_CNT_HOTL','TRN_CNT_ENTR','TRN_CNT_RSTR',\n",
    "'TRN_CNT_SPRT','TRN_CNT_SUPM','TRN_CNT_TELE','TRN_CNT_FUEL','TRN_CNT_TRAN','TRN_CNT_FLOW','TRN_CNT_JEWL','TRN_CNT_DUTF',\n",
    "'TRN_AMNT_AVIA','TRN_AMNT_ASRV','TRN_AMNT_APTK','TRN_AMNT_AURT','TRN_AMNT_GSRV','TRN_AMNT_DOMS','TRN_AMNT_OTHR',\n",
    "'TRN_AMNT_ZHDT','TRN_AMNT_ZOOS','TRN_AMNT_GAME','TRN_AMNT_ARTS','TRN_AMNT_KCSH','TRN_AMNT_KINO','TRN_AMNT_BOOK',\n",
    "'TRN_AMNT_CMSV','TRN_AMNT_BEAU','TRN_AMNT_MEDC','TRN_AMNT_MUSC','TRN_AMNT_EDUC','TRN_AMNT_CLTH','TRN_AMNT_HOTL',\n",
    "'TRN_AMNT_ENTR','TRN_AMNT_RSTR','TRN_AMNT_SPRT','TRN_AMNT_SUPM','TRN_AMNT_TELE','TRN_AMNT_FUEL','TRN_AMNT_TRAN',\n",
    "'TRN_AMNT_FLOW','TRN_AMNT_JEWL','TRN_AMNT_DUTF',\n",
    "'DBO_PAY_CNT_MOBL','DBO_PAY_CNT_ZHKH','DBO_PAY_CNT_COMS','DBO_PAY_CNT_EDUC','DBO_PAY_CNT_WALT','DBO_PAY_CNT_CREDS',\n",
    "'DBO_PAY_CNT_GOSP','DBO_PAY_CNT_INSH','DBO_PAY_CNT_MLM','DBO_PAY_CNT_OTHR',\n",
    "'DBO_PAY_AMNT_MOBL','DBO_PAY_AMNT_ZHKH','DBO_PAY_AMNT_COMS','DBO_PAY_AMNT_EDUC','DBO_PAY_AMNT_WALT','DBO_PAY_AMNT_CREDS',\n",
    "'DBO_PAY_AMNT_GOSP','DBO_PAY_AMNT_INSH','DBO_PAY_AMNT_MLM','DBO_PAY_AMNT_OTHR'\n",
    "}"
   ]
  },
  {
   "cell_type": "code",
   "execution_count": null,
   "metadata": {
    "collapsed": true
   },
   "outputs": [],
   "source": [
    "#reading and merging t1 and t4\n",
    "#!!!in t4.csv Gender values manually changed from {М,Ж} to {M,F}!!!\n",
    "dfheat = pandas.read_csv('t1.csv',sep=\";|,\", engine=\"python\")\n",
    "dfclients = pandas.read_csv('t4.csv',sep=\";|,\", engine=\"python\",encoding=\"utf-8\")\n",
    "\n",
    "#next line because 'CLIENT_HASH_ID' in dfheat is surrounded with double quotes, but in dfclients it does not\n",
    "dfclients['CLIENT_HASH_ID']='\"' + dfclients['CLIENT_HASH_ID'] + '\"'\n",
    "\n",
    "dfheat['GENDER'] = dfheat.CLIENT_HASH_ID.map(dfclients.set_index('CLIENT_HASH_ID')['GENDER'].to_dict())\n",
    "dfheat['F1'] = dfheat.CLIENT_HASH_ID.map(dfclients.set_index('CLIENT_HASH_ID')['F1'].to_dict())\n",
    "dfheat['AGE'] = dfheat.CLIENT_HASH_ID.map(dfclients.set_index('CLIENT_HASH_ID')['AGE'].to_dict())"
   ]
  },
  {
   "cell_type": "code",
   "execution_count": null,
   "metadata": {
    "collapsed": true
   },
   "outputs": [],
   "source": [
    "#creating dataframe for heatmaps part 1\n",
    "#Creating dictionary that will represent our dataframe for heatmap\n",
    "#trtype=\"one of 'labels' found above\"; cat=\"User Marketing segment\"\n",
    "dict={}\n",
    "for cat in tqdm(unique(dfheat['F1'])):\n",
    "    dict[cat]={}\n",
    "    for trtype in labels:\n",
    "        dict[cat][trtype] = 0"
   ]
  },
  {
   "cell_type": "code",
   "execution_count": null,
   "metadata": {
    "collapsed": true
   },
   "outputs": [],
   "source": [
    "#creating dataframe for heatmaps part 2\n",
    "#increasing values in our dictionary fron zero to values in dataframe\n",
    "for index, row in tqdm(dfheat.iterrows()):\n",
    "    for trtype in labels:\n",
    "        dict[row['F1']][trtype] += row[trtype]"
   ]
  },
  {
   "cell_type": "code",
   "execution_count": null,
   "metadata": {
    "collapsed": true
   },
   "outputs": [],
   "source": [
    "#creating dataframe for heatmaps part 3\n",
    "#transform our dictionary to dataframe\n",
    "#type=\"one of 'labels' found above\"; F1=\"User Marketing segment\"; val=\"value for heatmap\"\n",
    "df = pandas.DataFrame(columns=('type', 'F1', 'val'))\n",
    "for cat in tqdm(dict):\n",
    "    for type in dict[cat]:\n",
    "        df.loc[len(df)] = [type, cat, dict[cat][type]]"
   ]
  },
  {
   "cell_type": "code",
   "execution_count": 2,
   "metadata": {
    "collapsed": true
   },
   "outputs": [],
   "source": [
    "#You can skip first part and load supplied dataset\n",
    "\n",
    "#df=pandas.pandas.read_csv('heat.csv')"
   ]
  },
  {
   "cell_type": "code",
   "execution_count": null,
   "metadata": {
    "collapsed": true
   },
   "outputs": [],
   "source": [
    "#print TRN_CNT heatmap\n",
    "#selected columns\n",
    "coltest = ['TRN_CNT_AVIA','TRN_CNT_ASRV','TRN_CNT_APTK','TRN_CNT_AURT','TRN_CNT_GSRV','TRN_CNT_DOMS','TRN_CNT_OTHR',\n",
    "'TRN_CNT_ZHDT','TRN_CNT_ZOOS','TRN_CNT_GAME','TRN_CNT_ARTS','TRN_CNT_KCSH','TRN_CNT_KINO','TRN_CNT_BOOK','TRN_CNT_CMSV',\n",
    "'TRN_CNT_BEAU','TRN_CNT_MEDC','TRN_CNT_MUSC','TRN_CNT_EDUC','TRN_CNT_CLTH','TRN_CNT_HOTL','TRN_CNT_ENTR','TRN_CNT_RSTR',\n",
    "'TRN_CNT_SPRT','TRN_CNT_SUPM','TRN_CNT_TELE','TRN_CNT_FUEL','TRN_CNT_TRAN','TRN_CNT_FLOW','TRN_CNT_JEWL','TRN_CNT_DUTF'\n",
    "]\n",
    "#dftest is a part of dataset created above\n",
    "dftest = pandas.DataFrame(columns=('type', 'F1', 'val'))\n",
    "\n",
    "for index, row in tqdm(df.iterrows()):\n",
    "    if(row['type'] in coltest):\n",
    "        dftest.loc[len(dftest)] = row\n",
    "        continue\n",
    "        \n",
    "#plot heatmap   \n",
    "fig, ax = plt.subplots(figsize=(40,40)) \n",
    "platform_genre_sales = dftest.pivot_table(\n",
    "                        index='type', \n",
    "                        columns='F1', \n",
    "                        values='val', \n",
    "                        aggfunc=sum).fillna(0).applymap(float)\n",
    "sns.heatmap(platform_genre_sales, annot=True, fmt=\".1f\", linewidths=.5, ax=ax, cmap=\"nipy_spectral\")\n",
    "fig.savefig('TRN_CNT.png')"
   ]
  },
  {
   "cell_type": "code",
   "execution_count": null,
   "metadata": {
    "collapsed": true
   },
   "outputs": [],
   "source": [
    "#print TRN_AMN heatmap\n",
    "#selected columns\n",
    "coltest = ['TRN_AMNT_AVIA','TRN_AMNT_ASRV','TRN_AMNT_APTK','TRN_AMNT_AURT','TRN_AMNT_GSRV','TRN_AMNT_DOMS','TRN_AMNT_OTHR',\n",
    "'TRN_AMNT_ZHDT','TRN_AMNT_ZOOS','TRN_AMNT_GAME','TRN_AMNT_ARTS','TRN_AMNT_KCSH','TRN_AMNT_KINO','TRN_AMNT_BOOK',\n",
    "'TRN_AMNT_CMSV','TRN_AMNT_BEAU','TRN_AMNT_MEDC','TRN_AMNT_MUSC','TRN_AMNT_EDUC','TRN_AMNT_CLTH','TRN_AMNT_HOTL',\n",
    "'TRN_AMNT_ENTR','TRN_AMNT_RSTR','TRN_AMNT_SPRT','TRN_AMNT_SUPM','TRN_AMNT_TELE','TRN_AMNT_FUEL','TRN_AMNT_TRAN',\n",
    "'TRN_AMNT_FLOW','TRN_AMNT_JEWL','TRN_AMNT_DUTF'\n",
    "]\n",
    "#dftest is a part of dataset created above\n",
    "dftest = pandas.DataFrame(columns=('type', 'F1', 'val'))\n",
    "\n",
    "for index, row in tqdm(df.iterrows()):\n",
    "    if(row['type'] in coltest):\n",
    "        dftest.loc[len(dftest)] = row\n",
    "        continue\n",
    "#plot heatmap   \n",
    "fig, ax = plt.subplots(figsize=(50,40)) \n",
    "platform_genre_sales = dftest.pivot_table(\n",
    "                        index='type', \n",
    "                        columns='F1', \n",
    "                        values='val', \n",
    "                        aggfunc=sum).fillna(0).applymap(float)\n",
    "sns.heatmap(platform_genre_sales, annot=True, fmt=\".1f\", linewidths=.5, ax=ax, cmap=\"nipy_spectral\")\n",
    "fig.savefig('TRN_AMN.png')"
   ]
  },
  {
   "cell_type": "code",
   "execution_count": null,
   "metadata": {
    "collapsed": true
   },
   "outputs": [],
   "source": [
    "#print DBO_CNT heatmap\n",
    "#selected columns\n",
    "coltest = ['DBO_PAY_CNT_MOBL','DBO_PAY_CNT_ZHKH','DBO_PAY_CNT_COMS','DBO_PAY_CNT_EDUC','DBO_PAY_CNT_WALT','DBO_PAY_CNT_CREDS',\n",
    "'DBO_PAY_CNT_GOSP','DBO_PAY_CNT_INSH','DBO_PAY_CNT_MLM','DBO_PAY_CNT_OTHR',\n",
    "]\n",
    "#dftest is a part of dataset created above\n",
    "dftest = pandas.DataFrame(columns=('type', 'F1', 'val'))\n",
    "\n",
    "for index, row in tqdm(df.iterrows()):\n",
    "    if(row['type'] in coltest):\n",
    "        dftest.loc[len(dftest)] = row\n",
    "        continue\n",
    "#plot heatmap   \n",
    "fig, ax = plt.subplots(figsize=(40,30)) \n",
    "platform_genre_sales = dftest.pivot_table(\n",
    "                        index='type', \n",
    "                        columns='F1', \n",
    "                        values='val', \n",
    "                        aggfunc=sum).fillna(0).applymap(float)\n",
    "sns.heatmap(platform_genre_sales, annot=True, fmt=\".1f\", linewidths=.5, ax=ax, cmap=\"nipy_spectral\")\n",
    "fig.savefig('DBO_CNT.png')"
   ]
  },
  {
   "cell_type": "code",
   "execution_count": null,
   "metadata": {
    "collapsed": true
   },
   "outputs": [],
   "source": [
    "#print DBO_AMNT heatmap\n",
    "#selected columns\n",
    "coltest = ['DBO_PAY_AMNT_MOBL','DBO_PAY_AMNT_ZHKH','DBO_PAY_AMNT_COMS','DBO_PAY_AMNT_EDUC','DBO_PAY_AMNT_WALT','DBO_PAY_AMNT_CREDS',\n",
    "'DBO_PAY_AMNT_GOSP','DBO_PAY_AMNT_INSH','DBO_PAY_AMNT_MLM','DBO_PAY_AMNT_OTHR'\n",
    "]\n",
    "#dftest is a part of dataset created above\n",
    "dftest = pandas.DataFrame(columns=('type', 'F1', 'val'))\n",
    "\n",
    "for index, row in tqdm(df.iterrows()):\n",
    "    if(row['type'] in coltest):\n",
    "        dftest.loc[len(dftest)] = row\n",
    "        continue\n",
    "#plot heatmap   \n",
    "fig, ax = plt.subplots(figsize=(40,30)) \n",
    "platform_genre_sales = dftest.pivot_table(\n",
    "                        index='type', \n",
    "                        columns='F1', \n",
    "                        values='val', \n",
    "                        aggfunc=sum).fillna(0).applymap(float)\n",
    "sns.heatmap(platform_genre_sales, annot=True, fmt=\".1f\", linewidths=.5, ax=ax, cmap=\"nipy_spectral\")\n",
    "fig.savefig('DBO_AMNT.png')"
   ]
  },
  {
   "cell_type": "code",
   "execution_count": null,
   "metadata": {
    "collapsed": true
   },
   "outputs": [],
   "source": []
  }
 ],
 "metadata": {
  "anaconda-cloud": {},
  "kernelspec": {
   "display_name": "Python [conda root]",
   "language": "python",
   "name": "conda-root-py"
  },
  "language_info": {
   "codemirror_mode": {
    "name": "ipython",
    "version": 2
   },
   "file_extension": ".py",
   "mimetype": "text/x-python",
   "name": "python",
   "nbconvert_exporter": "python",
   "pygments_lexer": "ipython2",
   "version": "2.7.12"
  },
  "widgets": {
   "state": {
    "0987f4771e1d4302ab685182e4a52b9f": {
     "views": [
      {
       "cell_index": 17
      }
     ]
    },
    "0e60aa1f76394dd5878ed457cd5b9c9f": {
     "views": [
      {
       "cell_index": 18
      }
     ]
    },
    "1559833c181041f3a65bcb9b4f03120e": {
     "views": [
      {
       "cell_index": 17
      }
     ]
    },
    "1db04756f5284657b31e0a910433327a": {
     "views": [
      {
       "cell_index": 18
      }
     ]
    },
    "276ed17850814b45ac03a03a8c74076e": {
     "views": [
      {
       "cell_index": 18
      }
     ]
    },
    "29c5d182daf048519dbaaac30a9a9b8a": {
     "views": [
      {
       "cell_index": 18
      }
     ]
    },
    "2a648e8b1bbd4d7f808fcb3871e811e7": {
     "views": [
      {
       "cell_index": 18
      }
     ]
    },
    "2cce2dc78d8d45b9bda3f1a93a593d26": {
     "views": [
      {
       "cell_index": 17
      }
     ]
    },
    "3ae07a80e12840a1aba8182ebf778465": {
     "views": [
      {
       "cell_index": 18
      }
     ]
    },
    "4faaf81eb54043dabc977747a9ba9871": {
     "views": [
      {
       "cell_index": 18
      }
     ]
    },
    "51516e161c7b451c8d98cf3e4fb500a5": {
     "views": [
      {
       "cell_index": 18
      }
     ]
    },
    "52e070df0f88455bbae39e210c38996a": {
     "views": [
      {
       "cell_index": 18
      }
     ]
    },
    "55413051f91f4fe7ab1e48ac5f94aa85": {
     "views": [
      {
       "cell_index": 18
      }
     ]
    },
    "555cf000f235410692f6a85cd3bbf1b0": {
     "views": [
      {
       "cell_index": 18
      }
     ]
    },
    "5848aa6ad93545d9b06fcc67c0fd5fe2": {
     "views": [
      {
       "cell_index": 18
      }
     ]
    },
    "68af665b836846179960022d3c064c9c": {
     "views": [
      {
       "cell_index": 18
      }
     ]
    },
    "6ae63038ff794bc0b1e7296b5f3ff62a": {
     "views": [
      {
       "cell_index": 18
      }
     ]
    },
    "71ff13af11194a44847fc9f50af530a8": {
     "views": [
      {
       "cell_index": 18
      }
     ]
    },
    "7508d4cba9234397ba9f72780c24f46b": {
     "views": [
      {
       "cell_index": 17
      }
     ]
    },
    "7621e9471b874eb983d84af3034381ae": {
     "views": [
      {
       "cell_index": 17
      }
     ]
    },
    "79f2433c922c46739ba47340f98818e4": {
     "views": [
      {
       "cell_index": 18
      }
     ]
    },
    "7b00b1f6b6b5418ca86deda836813a18": {
     "views": [
      {
       "cell_index": 17
      }
     ]
    },
    "7c9acb21b2444cd0be3d9e33cf7cdeb6": {
     "views": [
      {
       "cell_index": 17
      }
     ]
    },
    "7cbe2a6136d741ecb05206ec05892f71": {
     "views": [
      {
       "cell_index": 17
      }
     ]
    },
    "7f9abda70d5842299217ff8dba4396c7": {
     "views": [
      {
       "cell_index": 17
      }
     ]
    },
    "7fdd52e5c74240b183596ad8e45d3d09": {
     "views": [
      {
       "cell_index": 17
      }
     ]
    },
    "81ae277e972244d2b27e59925afc5079": {
     "views": [
      {
       "cell_index": 18
      }
     ]
    },
    "83a8214c07ec4f4baa9747d73bc539e6": {
     "views": [
      {
       "cell_index": 18
      }
     ]
    },
    "867261f461b94036823c6afa8d0fa195": {
     "views": [
      {
       "cell_index": 18
      }
     ]
    },
    "87f5addafbf24399891a8b457e6c7acc": {
     "views": [
      {
       "cell_index": 17
      }
     ]
    },
    "8928b7fc94654c68af0824b702f03698": {
     "views": [
      {
       "cell_index": 17
      }
     ]
    },
    "8d0ac1535efa4c5fb7bc5708e8a5dbb9": {
     "views": [
      {
       "cell_index": 18
      }
     ]
    },
    "8e006e91568a4bd89717d0b72ba50033": {
     "views": [
      {
       "cell_index": 17
      }
     ]
    },
    "9117a152c1bb42188c16a710415478c1": {
     "views": [
      {
       "cell_index": 18
      }
     ]
    },
    "91fa888c8b864816930e9b8f110a3345": {
     "views": [
      {
       "cell_index": 17
      }
     ]
    },
    "97eb2c378f944a5f9398b396b383c8ca": {
     "views": [
      {
       "cell_index": 17
      }
     ]
    },
    "99e21ba4742a498c8621a94f17c5f5c9": {
     "views": [
      {
       "cell_index": 18
      }
     ]
    },
    "9ea1a84f97df4982bef41f00f8054c52": {
     "views": [
      {
       "cell_index": 18
      }
     ]
    },
    "9f5f14f0d24244d1ab630c3a86de63aa": {
     "views": [
      {
       "cell_index": 18
      }
     ]
    },
    "a1aa9202da6446b68cea9896acfc69ac": {
     "views": [
      {
       "cell_index": 17
      }
     ]
    },
    "a37ed8bc5abe4a18b1f3eeaff7047af4": {
     "views": [
      {
       "cell_index": 17
      }
     ]
    },
    "a6221633bb004d59a9f857685a2ff36f": {
     "views": [
      {
       "cell_index": 18
      }
     ]
    },
    "a674af505bf6492fb6e0ae39c6f94553": {
     "views": [
      {
       "cell_index": 17
      }
     ]
    },
    "a750f37e40a54db596bd00dbd5c051b9": {
     "views": [
      {
       "cell_index": 18
      }
     ]
    },
    "aa8ce625ddd2462988c533138f2837cc": {
     "views": [
      {
       "cell_index": 18
      }
     ]
    },
    "accdfa5530ab41bcbc9127de67aa0ea6": {
     "views": [
      {
       "cell_index": 17
      }
     ]
    },
    "acea024a420a4e73ac64bb0667af1be3": {
     "views": [
      {
       "cell_index": 18
      }
     ]
    },
    "aee75284a51c4e3d97d6bbd2aca6a7ff": {
     "views": [
      {
       "cell_index": 18
      }
     ]
    },
    "b41447dedc444ff8959f812986251f74": {
     "views": [
      {
       "cell_index": 18
      }
     ]
    },
    "b673070360514f1f8ac60326d2c72acb": {
     "views": [
      {
       "cell_index": 18
      }
     ]
    },
    "b7d3b0cc08d240ebb0a793bd1d8ce44a": {
     "views": [
      {
       "cell_index": 17
      }
     ]
    },
    "bba63ea8408f43e7949f063256ea82e7": {
     "views": [
      {
       "cell_index": 18
      }
     ]
    },
    "cfd0549f8f4342398e8df4296eb4627c": {
     "views": [
      {
       "cell_index": 18
      }
     ]
    },
    "d2fe4379f8a643268555794c544b1850": {
     "views": [
      {
       "cell_index": 17
      }
     ]
    },
    "d88123e22b5f4cdebfa96b95c310c12a": {
     "views": [
      {
       "cell_index": 17
      }
     ]
    },
    "d8b9ff217c934e4f83232d88d0051198": {
     "views": [
      {
       "cell_index": 17
      }
     ]
    },
    "d97b6f71ccf44ffeb233d188265b41db": {
     "views": [
      {
       "cell_index": 18
      }
     ]
    },
    "dc9167bfd8824404bb5827c5842cb982": {
     "views": [
      {
       "cell_index": 18
      }
     ]
    },
    "dcaed674d3d9472e983e93a65b93afe3": {
     "views": [
      {
       "cell_index": 17
      }
     ]
    },
    "e0dde61c73714043bc990c327901fa06": {
     "views": [
      {
       "cell_index": 18
      }
     ]
    },
    "ebe1ba7afe4a42f7aca697a47f15f5ad": {
     "views": [
      {
       "cell_index": 17
      }
     ]
    },
    "f2373c74efe340b0916842591c5ce6c4": {
     "views": [
      {
       "cell_index": 18
      }
     ]
    },
    "f70cdcf9145942faabdc336d9721b638": {
     "views": [
      {
       "cell_index": 17
      }
     ]
    },
    "f72d72aa2361475892795ddeac2e821a": {
     "views": [
      {
       "cell_index": 18
      }
     ]
    },
    "f94bed040a4047d08430527d7d7b7a47": {
     "views": [
      {
       "cell_index": 17
      }
     ]
    },
    "fc5d873b1d4a4d8b9b41d20b5c92f0e4": {
     "views": [
      {
       "cell_index": 17
      }
     ]
    },
    "ffd70624350748ea8737cefaef6a0dc6": {
     "views": [
      {
       "cell_index": 17
      }
     ]
    }
   },
   "version": "1.2.0"
  }
 },
 "nbformat": 4,
 "nbformat_minor": 1
}
