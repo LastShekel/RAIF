{
 "cells": [
  {
   "cell_type": "code",
   "execution_count": 187,
   "metadata": {
    "collapsed": true
   },
   "outputs": [],
   "source": [
    "import pandas\n",
    "import numpy as np\n",
    "import sklearn"
   ]
  },
  {
   "cell_type": "code",
   "execution_count": 188,
   "metadata": {
    "collapsed": true
   },
   "outputs": [],
   "source": [
    "#data = pandas.read_csv('deltasSubstraction1.csv',sep=\";|,\", engine=\"python\")"
   ]
  },
  {
   "cell_type": "code",
   "execution_count": 189,
   "metadata": {
    "collapsed": true
   },
   "outputs": [],
   "source": [
    "#data = pandas.read_csv('deltasSubstractionCards.csv',sep=\";|,\", engine=\"python\")"
   ]
  },
  {
   "cell_type": "code",
   "execution_count": 190,
   "metadata": {
    "collapsed": true
   },
   "outputs": [],
   "source": [
    "data = pandas.read_csv('deltasSubstractionCardsContracts.csv',sep=\";|,\", engine=\"python\")"
   ]
  },
  {
   "cell_type": "code",
   "execution_count": 191,
   "metadata": {
    "collapsed": false
   },
   "outputs": [],
   "source": [
    "#data = data.drop(['REPORT_MONTH','CLIENT_HASH_ID','GENDER','F1','AGE'],1)"
   ]
  },
  {
   "cell_type": "code",
   "execution_count": 192,
   "metadata": {
    "collapsed": false
   },
   "outputs": [],
   "source": [
    "#data = data.drop(['REPORT_MONTH','CLIENT_HASH_ID','GENDER','F1'],1).dropna()"
   ]
  },
  {
   "cell_type": "code",
   "execution_count": 193,
   "metadata": {
    "collapsed": true
   },
   "outputs": [],
   "source": [
    "data = data.drop(['REPORT_MONTH','CLIENT_HASH_ID'],1).dropna()"
   ]
  },
  {
   "cell_type": "code",
   "execution_count": 194,
   "metadata": {
    "collapsed": false
   },
   "outputs": [],
   "source": [
    "active = data.loc[data['ACTIVE_FLAG']==1].sample(n=22031,random_state = 1)\n",
    "nonactive = data.loc[data['ACTIVE_FLAG']==0]\n",
    "dataset = pandas.concat([active,nonactive])"
   ]
  },
  {
   "cell_type": "code",
   "execution_count": 195,
   "metadata": {
    "collapsed": true
   },
   "outputs": [],
   "source": [
    "from sklearn.tree import DecisionTreeClassifier\n",
    "clf = DecisionTreeClassifier()\n",
    "from sklearn.ensemble import RandomForestClassifier\n",
    "clf = RandomForestClassifier(n_estimators=10)"
   ]
  },
  {
   "cell_type": "code",
   "execution_count": 196,
   "metadata": {
    "collapsed": false
   },
   "outputs": [],
   "source": [
    "train = dataset.sample(n=22031,random_state = 7)\n",
    "features = train.drop(['ACTIVE_FLAG'],1)\n",
    "goals = train['ACTIVE_FLAG']\n",
    "predict = dataset.sample(n=22031,random_state = 191)"
   ]
  },
  {
   "cell_type": "code",
   "execution_count": 165,
   "metadata": {
    "collapsed": true
   },
   "outputs": [],
   "source": [
    "#train = data\n",
    "#features = train.drop(['ACTIVE_FLAG'],1)\n",
    "#goals = train['ACTIVE_FLAG']\n",
    "#predict = data"
   ]
  },
  {
   "cell_type": "code",
   "execution_count": 166,
   "metadata": {
    "collapsed": false
   },
   "outputs": [
    {
     "data": {
      "text/plain": [
       "RandomForestClassifier(bootstrap=True, class_weight=None, criterion='gini',\n",
       "            max_depth=None, max_features='auto', max_leaf_nodes=None,\n",
       "            min_samples_leaf=1, min_samples_split=2,\n",
       "            min_weight_fraction_leaf=0.0, n_estimators=10, n_jobs=1,\n",
       "            oob_score=False, random_state=None, verbose=0,\n",
       "            warm_start=False)"
      ]
     },
     "execution_count": 166,
     "metadata": {},
     "output_type": "execute_result"
    }
   ],
   "source": [
    "clf.fit(features, goals)"
   ]
  },
  {
   "cell_type": "code",
   "execution_count": 167,
   "metadata": {
    "collapsed": false
   },
   "outputs": [
    {
     "name": "stdout",
     "output_type": "stream",
     "text": [
      "8531\n",
      "9358\n",
      "1603\n",
      "2539\n",
      "Полнота уходящих\n",
      "0.853754219506\n",
      "Полнота оставшихся\n",
      "0.77064137308\n",
      "Accuracy\n",
      "0.811992192819\n",
      "Precision\n",
      "0.84181961713\n",
      "Recall\n",
      "0.77064137308\n",
      "Fmeasure\n",
      "0.804659498208\n"
     ]
    }
   ],
   "source": [
    "truval = predict['ACTIVE_FLAG'].values\n",
    "res = clf.predict(predict.drop(['ACTIVE_FLAG'],1))\n",
    "tp = 0\n",
    "fp = 0\n",
    "tn = 0\n",
    "fn = 0\n",
    "for goal, predicted in zip(truval,res):\n",
    "    if bool(goal):\n",
    "        if predicted == 1:           \n",
    "            tp += 1\n",
    "            continue\n",
    "        fn += 1\n",
    "        continue\n",
    "    if bool(predicted):\n",
    "        fp += 1\n",
    "        continue\n",
    "    tn += 1\n",
    "\n",
    "        \n",
    "print(tp)\n",
    "print(tn)\n",
    "print(fp)\n",
    "print(fn)\n",
    "print(\"Полнота уходящих\")\n",
    "print(float(tn)/(tn+fp))\n",
    "\n",
    "print(\"Полнота оставшихся\")\n",
    "print(float(tp)/(tp+fn))\n",
    "\n",
    "print(\"Accuracy\")\n",
    "print(float(tp+tn)/(tp+fp+tn+fn))\n",
    "\n",
    "prec = float(tp)/(tp+fp)\n",
    "recall = float(tp)/(tp+fn)\n",
    "print(\"Precision\")\n",
    "print(prec)\n",
    "print(\"Recall\")\n",
    "print(recall)\n",
    "print(\"Fmeasure\")\n",
    "print (2*prec*recall/(prec+recall))"
   ]
  },
  {
   "cell_type": "code",
   "execution_count": 168,
   "metadata": {
    "collapsed": false
   },
   "outputs": [
    {
     "data": {
      "text/plain": [
       "1    11070\n",
       "0    10961\n",
       "Name: ACTIVE_FLAG, dtype: int64"
      ]
     },
     "execution_count": 168,
     "metadata": {},
     "output_type": "execute_result"
    }
   ],
   "source": [
    "predict.ACTIVE_FLAG.value_counts()"
   ]
  },
  {
   "cell_type": "code",
   "execution_count": 169,
   "metadata": {
    "collapsed": false
   },
   "outputs": [
    {
     "data": {
      "text/plain": [
       "[('GOOD_PHONE', 0.019437187335952295),\n",
       " ('GOOD_EMAIL', 0.019524990190303244),\n",
       " ('AGE', 0.1454634424467775),\n",
       " ('TRN_CNT', 0.069511950146616749),\n",
       " ('TRN_CNT_POS', 0.068160616230748511),\n",
       " ('TRN_CNT_ATM', 0.057121444633761155),\n",
       " ('TRN_AMNT', 0.11822121793098835),\n",
       " ('TRN_AMNT_POS', 0.11375949960493958),\n",
       " ('TRN_AMNT_ATM', 0.11699385654953727),\n",
       " ('CONTRACT_TURN_AMOUNT', 0.12201750008110775),\n",
       " ('SALARY_INCOME', 0.058611590493123512),\n",
       " ('DBO_AUTH_WWW', 0.020008120942605415),\n",
       " ('DBO_AUTH_MB', 0.013521373287252189),\n",
       " ('DBO_OPER_CNT', 0.010169802451555025),\n",
       " ('DBO_REM_CNT', 0.0049892215214208365),\n",
       " ('DBO_PAY_CNT', 0.0085682492929698515),\n",
       " ('DBO_OPER_AMNT', 0.014170683928951152),\n",
       " ('DBO_REM_AMNT', 0.0082377453229773284),\n",
       " ('DBO_PAY_AMNT', 0.011511507608412356)]"
      ]
     },
     "execution_count": 169,
     "metadata": {},
     "output_type": "execute_result"
    }
   ],
   "source": [
    "zip(list(dataset)[1:],clf.feature_importances_)"
   ]
  },
  {
   "cell_type": "code",
   "execution_count": 170,
   "metadata": {
    "collapsed": false
   },
   "outputs": [
    {
     "name": "stdout",
     "output_type": "stream",
     "text": [
      "1147\n",
      "10515\n",
      "446\n",
      "9923\n",
      "Полнота уходящих\n",
      "0.959310281909\n",
      "Полнота оставшихся\n",
      "0.103613369467\n",
      "Accuracy\n",
      "0.529345013844\n",
      "Precision\n",
      "0.720025109856\n",
      "Recall\n",
      "0.103613369467\n",
      "Fmeasure\n",
      "0.181157703546\n"
     ]
    }
   ],
   "source": [
    "from sklearn import datasets\n",
    "from sklearn.naive_bayes import GaussianNB\n",
    "gnb = GaussianNB()\n",
    "res = gnb.fit(features, goals).predict(predict.drop(['ACTIVE_FLAG'],1))\n",
    "tp = 0\n",
    "fp = 0\n",
    "tn = 0\n",
    "fn = 0\n",
    "for goal, predicted in zip(truval,res):\n",
    "    if bool(goal):\n",
    "        if predicted == 1:           \n",
    "            tp += 1\n",
    "            continue\n",
    "        fn += 1\n",
    "        continue\n",
    "    if bool(predicted):\n",
    "        fp += 1\n",
    "        continue\n",
    "    tn += 1\n",
    "\n",
    "        \n",
    "print(tp)\n",
    "print(tn)\n",
    "print(fp)\n",
    "print(fn)\n",
    "print(\"Полнота уходящих\")\n",
    "print(float(tn)/(tn+fp))\n",
    "\n",
    "print(\"Полнота оставшихся\")\n",
    "print(float(tp)/(tp+fn))\n",
    "\n",
    "print(\"Accuracy\")\n",
    "print(float(tp+tn)/(tp+fp+tn+fn))\n",
    "\n",
    "prec = float(tp)/(tp+fp)\n",
    "recall = float(tp)/(tp+fn)\n",
    "print(\"Precision\")\n",
    "print(prec)\n",
    "print(\"Recall\")\n",
    "print(recall)\n",
    "print(\"Fmeasure\")\n",
    "print (2*prec*recall/(prec+recall))"
   ]
  },
  {
   "cell_type": "code",
   "execution_count": 171,
   "metadata": {
    "collapsed": true
   },
   "outputs": [],
   "source": [
    "cls = sklearn.linear_model.LinearRegression(fit_intercept=True, normalize=False, copy_X=True, n_jobs=1)"
   ]
  },
  {
   "cell_type": "code",
   "execution_count": 172,
   "metadata": {
    "collapsed": false
   },
   "outputs": [
    {
     "data": {
      "text/plain": [
       "RandomForestClassifier(bootstrap=True, class_weight=None, criterion='gini',\n",
       "            max_depth=None, max_features='auto', max_leaf_nodes=None,\n",
       "            min_samples_leaf=1, min_samples_split=2,\n",
       "            min_weight_fraction_leaf=0.0, n_estimators=10, n_jobs=1,\n",
       "            oob_score=False, random_state=None, verbose=0,\n",
       "            warm_start=False)"
      ]
     },
     "execution_count": 172,
     "metadata": {},
     "output_type": "execute_result"
    }
   ],
   "source": [
    "clf.fit(features, goals)"
   ]
  },
  {
   "cell_type": "code",
   "execution_count": 173,
   "metadata": {
    "collapsed": false
   },
   "outputs": [
    {
     "name": "stdout",
     "output_type": "stream",
     "text": [
      "8547\n",
      "9310\n",
      "1651\n",
      "2523\n",
      "Полнота уходящих\n",
      "0.84937505702\n",
      "Полнота оставшихся\n",
      "0.772086720867\n",
      "Accuracy\n",
      "0.810539694067\n",
      "Precision\n",
      "0.838105510884\n",
      "Recall\n",
      "0.772086720867\n",
      "Fmeasure\n",
      "0.803742712056\n"
     ]
    }
   ],
   "source": [
    "truval = predict['ACTIVE_FLAG'].values\n",
    "r = clf.predict(predict.drop(['ACTIVE_FLAG'],1))\n",
    "res=[]\n",
    "for i in r:\n",
    "    if i>0.5:\n",
    "        res.append(1)\n",
    "        continue\n",
    "    res.append(0)\n",
    "tp = 0\n",
    "fp = 0\n",
    "tn = 0\n",
    "fn = 0\n",
    "for goal, predicted in zip(truval,res):\n",
    "    if bool(goal):\n",
    "        if predicted == 1:           \n",
    "            tp += 1\n",
    "            continue\n",
    "        fn += 1\n",
    "        continue\n",
    "    if bool(predicted):\n",
    "        fp += 1\n",
    "        continue\n",
    "    tn += 1\n",
    "\n",
    "        \n",
    "print(tp)\n",
    "print(tn)\n",
    "print(fp)\n",
    "print(fn)\n",
    "print(\"Полнота уходящих\")\n",
    "print(float(tn)/(tn+fp))\n",
    "\n",
    "print(\"Полнота оставшихся\")\n",
    "print(float(tp)/(tp+fn))\n",
    "\n",
    "print(\"Accuracy\")\n",
    "print(float(tp+tn)/(tp+fp+tn+fn))\n",
    "\n",
    "prec = float(tp)/(tp+fp)\n",
    "recall = float(tp)/(tp+fn)\n",
    "print(\"Precision\")\n",
    "print(prec)\n",
    "print(\"Recall\")\n",
    "print(recall)\n",
    "print(\"Fmeasure\")\n",
    "print (2*prec*recall/(prec+recall))"
   ]
  },
  {
   "cell_type": "code",
   "execution_count": null,
   "metadata": {
    "collapsed": true
   },
   "outputs": [],
   "source": [
    "dat = pandas.read_csv('deltasSubstractionCardsContracts.csv',sep=\";|,\", engine=\"python\")\n",
    "dat = data.drop(['REPORT_MONTH','CLIENT_HASH_ID','GENDER','F1'],1).dropna()\n",
    "for clas in unique(data.F1):\n",
    "    data = dat.loc[dat.F1 == clas]\n",
    "    active = data.loc[data['ACTIVE_FLAG']==1].sample(n=22031,random_state = 1)\n",
    "    nonactive = data.loc[data['ACTIVE_FLAG']==0]\n",
    "    dataset = pandas.concat([active,nonactive])\n",
    "    "
   ]
  },
  {
   "cell_type": "code",
   "execution_count": null,
   "metadata": {
    "collapsed": true
   },
   "outputs": [],
   "source": []
  }
 ],
 "metadata": {
  "anaconda-cloud": {},
  "kernelspec": {
   "display_name": "Python [conda root]",
   "language": "python",
   "name": "conda-root-py"
  },
  "language_info": {
   "codemirror_mode": {
    "name": "ipython",
    "version": 2
   },
   "file_extension": ".py",
   "mimetype": "text/x-python",
   "name": "python",
   "nbconvert_exporter": "python",
   "pygments_lexer": "ipython2",
   "version": "2.7.12"
  }
 },
 "nbformat": 4,
 "nbformat_minor": 2
}
