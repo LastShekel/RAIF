{
 "cells": [
  {
   "cell_type": "code",
   "execution_count": 46,
   "metadata": {},
   "outputs": [],
   "source": [
    "import pandas\n",
    "import numpy as np\n",
    "import sklearn\n",
    "from tqdm import tqdm_notebook as tqdm\n",
    "import csv\n",
    "import os"
   ]
  },
  {
   "cell_type": "code",
   "execution_count": 47,
   "metadata": {},
   "outputs": [
    {
     "name": "stdout",
     "output_type": "stream",
     "text": [
      "Populating the interactive namespace from numpy and matplotlib\n"
     ]
    }
   ],
   "source": [
    "#import libs\n",
    "# Python 2 and 3 compatibility\n",
    "# pip install future\n",
    "from __future__ import (absolute_import, division,\n",
    "                        print_function, unicode_literals)\n",
    "# отключим предупреждения Anaconda\n",
    "import warnings\n",
    "warnings.simplefilter('ignore')\n",
    "\n",
    "# будем отображать графики прямо в jupyter'e\n",
    "%pylab inline\n",
    "\n",
    "#увеличим дефолтный размер графиков\n",
    "from pylab import rcParams\n",
    "rcParams['figure.figsize'] = 8, 5\n",
    "import seaborn as sns\n",
    "\n",
    "#!!! if lib is not installed call \"!pip install <libname>\" in jupyter"
   ]
  },
  {
   "cell_type": "code",
   "execution_count": 48,
   "metadata": {},
   "outputs": [
    {
     "data": {
      "text/html": [
       "<script>requirejs.config({paths: { 'plotly': ['https://cdn.plot.ly/plotly-latest.min']},});if(!window.Plotly) {{require(['plotly'],function(plotly) {window.Plotly=plotly;});}}</script>"
      ],
      "text/vnd.plotly.v1+html": [
       "<script>requirejs.config({paths: { 'plotly': ['https://cdn.plot.ly/plotly-latest.min']},});if(!window.Plotly) {{require(['plotly'],function(plotly) {window.Plotly=plotly;});}}</script>"
      ]
     },
     "metadata": {},
     "output_type": "display_data"
    }
   ],
   "source": [
    "from plotly.offline import download_plotlyjs, init_notebook_mode, plot, iplot\n",
    "import plotly\n",
    "import plotly.graph_objs as go\n",
    "import plotly.tools as tls\n",
    "init_notebook_mode(connected=True)"
   ]
  },
  {
   "cell_type": "code",
   "execution_count": 49,
   "metadata": {},
   "outputs": [],
   "source": [
    "from sklearn import metrics\n",
    "from sklearn.cross_validation import cross_val_score\n",
    "from sklearn.model_selection import cross_validate"
   ]
  },
  {
   "cell_type": "code",
   "execution_count": 50,
   "metadata": {
    "collapsed": true
   },
   "outputs": [],
   "source": [
    "#data = pandas.read_csv('deltasSubstraction1.csv',sep=\";|,\", engine=\"python\")"
   ]
  },
  {
   "cell_type": "code",
   "execution_count": 51,
   "metadata": {
    "collapsed": true
   },
   "outputs": [],
   "source": [
    "#data = pandas.read_csv('deltasSubstractionCards.csv',sep=\";|,\", engine=\"python\")"
   ]
  },
  {
   "cell_type": "code",
   "execution_count": 52,
   "metadata": {
    "collapsed": true
   },
   "outputs": [],
   "source": [
    "data = pandas.read_csv('deltasSubstractionCardsContracts.csv',sep=\";|,\", engine=\"python\")"
   ]
  },
  {
   "cell_type": "code",
   "execution_count": 53,
   "metadata": {},
   "outputs": [],
   "source": [
    "#data = data.drop(['REPORT_MONTH','CLIENT_HASH_ID','GENDER','F1','AGE'],1)"
   ]
  },
  {
   "cell_type": "code",
   "execution_count": 54,
   "metadata": {},
   "outputs": [],
   "source": [
    "#data = data.drop(['REPORT_MONTH','CLIENT_HASH_ID','GENDER','F1'],1).dropna()"
   ]
  },
  {
   "cell_type": "code",
   "execution_count": 55,
   "metadata": {
    "collapsed": true
   },
   "outputs": [],
   "source": [
    "data = data.drop(['REPORT_MONTH','CLIENT_HASH_ID','F1'],1).dropna()\n",
    "data['GENDER'] = data['GENDER'].map({'F': 1, 'M': 0})"
   ]
  },
  {
   "cell_type": "code",
   "execution_count": 56,
   "metadata": {},
   "outputs": [],
   "source": [
    "active = data.loc[data['ACTIVE_FLAG']==1].sample(n=22031,random_state = 1)\n",
    "nonactive = data.loc[data['ACTIVE_FLAG']==0]\n",
    "dataset = pandas.concat([active,nonactive])"
   ]
  },
  {
   "cell_type": "code",
   "execution_count": 57,
   "metadata": {
    "collapsed": true
   },
   "outputs": [],
   "source": [
    "from sklearn.tree import DecisionTreeClassifier\n",
    "clf = DecisionTreeClassifier()\n",
    "from sklearn.ensemble import RandomForestClassifier\n",
    "clf = RandomForestClassifier(n_estimators=10)"
   ]
  },
  {
   "cell_type": "code",
   "execution_count": null,
   "metadata": {
    "collapsed": true
   },
   "outputs": [],
   "source": [
    "from sklearn.model_selection import cross_validate\n",
    "from sklearn.metrics import recall_score"
   ]
  },
  {
   "cell_type": "code",
   "execution_count": 39,
   "metadata": {},
   "outputs": [
    {
     "data": {
      "text/plain": [
       "{'fit_time': array([ 5.83400011,  5.75999999]),\n",
       " 'score_time': array([ 3.37100005,  3.37199998]),\n",
       " u'test_acc': array([ 0.96021357,  0.96006238]),\n",
       " u'test_f1': array([ 0.49968127,  0.50097326]),\n",
       " u'test_prec_macro': array([ 0.53644978,  0.54000585]),\n",
       " u'test_rec_micro': array([ 0.50371795,  0.50438048]),\n",
       " u'train_acc': array([ 0.99570707,  0.99571046]),\n",
       " u'train_f1': array([ 0.96829502,  0.96829496]),\n",
       " u'train_prec_macro': array([ 0.99358814,  0.99407044]),\n",
       " u'train_rec_micro': array([ 0.94564651,  0.94526031])}"
      ]
     },
     "execution_count": 39,
     "metadata": {},
     "output_type": "execute_result"
    }
   ],
   "source": [
    "\n",
    "clf = RandomForestClassifier(n_estimators=10)\n",
    "scoring = {'acc': 'accuracy',\n",
    "           'prec_macro': 'precision_macro',\n",
    "           'rec_micro': 'recall_macro',\n",
    "          'f1':'f1_macro'}\n",
    "scores = cross_validate(clf, dataset.drop(['ACTIVE_FLAG'],1), dataset['ACTIVE_FLAG'], scoring=scoring,\n",
    "                        cv=2, return_train_score=True)\n",
    "sorted(scores.keys())\n",
    "scores  "
   ]
  },
  {
   "cell_type": "code",
   "execution_count": null,
   "metadata": {
    "collapsed": true
   },
   "outputs": [],
   "source": []
  },
  {
   "cell_type": "code",
   "execution_count": null,
   "metadata": {
    "collapsed": true
   },
   "outputs": [],
   "source": []
  },
  {
   "cell_type": "code",
   "execution_count": 58,
   "metadata": {},
   "outputs": [],
   "source": [
    "train = dataset.sample(n=22031,random_state = 7)\n",
    "features = train.drop(['ACTIVE_FLAG'],1)\n",
    "goals = train['ACTIVE_FLAG']\n",
    "predict = dataset.sample(n=22031,random_state = 191)"
   ]
  },
  {
   "cell_type": "code",
   "execution_count": 59,
   "metadata": {
    "collapsed": true
   },
   "outputs": [],
   "source": [
    "#train = data\n",
    "#features = train.drop(['ACTIVE_FLAG'],1)\n",
    "#goals = train['ACTIVE_FLAG']\n",
    "#predict = data"
   ]
  },
  {
   "cell_type": "code",
   "execution_count": 60,
   "metadata": {},
   "outputs": [
    {
     "data": {
      "text/plain": [
       "RandomForestClassifier(bootstrap=True, class_weight=None, criterion='gini',\n",
       "            max_depth=None, max_features='auto', max_leaf_nodes=None,\n",
       "            min_impurity_decrease=0.0, min_impurity_split=None,\n",
       "            min_samples_leaf=1, min_samples_split=2,\n",
       "            min_weight_fraction_leaf=0.0, n_estimators=10, n_jobs=1,\n",
       "            oob_score=False, random_state=None, verbose=0,\n",
       "            warm_start=False)"
      ]
     },
     "execution_count": 60,
     "metadata": {},
     "output_type": "execute_result"
    }
   ],
   "source": [
    "clf.fit(features, goals)"
   ]
  },
  {
   "cell_type": "code",
   "execution_count": 61,
   "metadata": {},
   "outputs": [
    {
     "name": "stdout",
     "output_type": "stream",
     "text": [
      "8610\n",
      "9397\n",
      "1564\n",
      "2460\n",
      "Полнота уходящих\n",
      "0.857312289025\n",
      "Полнота оставшихся\n",
      "0.777777777778\n",
      "Accuracy\n",
      "0.817348281966\n",
      "Precision\n",
      "0.846274818164\n",
      "Recall\n",
      "0.777777777778\n",
      "Fmeasure\n",
      "0.810581811335\n"
     ]
    }
   ],
   "source": [
    "truval = predict['ACTIVE_FLAG'].values\n",
    "res = clf.predict(predict.drop(['ACTIVE_FLAG'],1))\n",
    "tp = 0\n",
    "fp = 0\n",
    "tn = 0\n",
    "fn = 0\n",
    "for goal, predicted in zip(truval,res):\n",
    "    if bool(goal):\n",
    "        if predicted == 1:           \n",
    "            tp += 1\n",
    "            continue\n",
    "        fn += 1\n",
    "        continue\n",
    "    if bool(predicted):\n",
    "        fp += 1\n",
    "        continue\n",
    "    tn += 1\n",
    "\n",
    "        \n",
    "print(tp)\n",
    "print(tn)\n",
    "print(fp)\n",
    "print(fn)\n",
    "print(\"Полнота уходящих\")\n",
    "print(float(tn)/(tn+fp))\n",
    "\n",
    "print(\"Полнота оставшихся\")\n",
    "print(float(tp)/(tp+fn))\n",
    "\n",
    "print(\"Accuracy\")\n",
    "print(float(tp+tn)/(tp+fp+tn+fn))\n",
    "\n",
    "prec = float(tp)/(tp+fp)\n",
    "recall = float(tp)/(tp+fn)\n",
    "print(\"Precision\")\n",
    "print(prec)\n",
    "print(\"Recall\")\n",
    "print(recall)\n",
    "print(\"Fmeasure\")\n",
    "print (2*prec*recall/(prec+recall))"
   ]
  },
  {
   "cell_type": "code",
   "execution_count": 325,
   "metadata": {},
   "outputs": [
    {
     "data": {
      "text/plain": [
       "1    11070\n",
       "0    10961\n",
       "Name: ACTIVE_FLAG, dtype: int64"
      ]
     },
     "execution_count": 325,
     "metadata": {},
     "output_type": "execute_result"
    }
   ],
   "source": [
    "predict.ACTIVE_FLAG.value_counts()"
   ]
  },
  {
   "cell_type": "code",
   "execution_count": 326,
   "metadata": {},
   "outputs": [
    {
     "data": {
      "text/plain": [
       "[('GOOD_PHONE', 0.018599332683851128),\n",
       " ('GOOD_EMAIL', 0.017142313248533644),\n",
       " ('GENDER', 0.019550186769510022),\n",
       " ('AGE', 0.12617725390038159),\n",
       " ('TRN_CNT', 0.071122482696463679),\n",
       " ('TRN_CNT_POS', 0.062763147506172595),\n",
       " ('TRN_CNT_ATM', 0.052502428025981339),\n",
       " ('TRN_AMNT', 0.10658435219978322),\n",
       " ('TRN_AMNT_POS', 0.09795389815190006),\n",
       " ('TRN_AMNT_ATM', 0.10436167191022189),\n",
       " ('CONTRACT_TURN_AMOUNT', 0.10707294503952594),\n",
       " ('SALARY_INCOME', 0.057186522560675843),\n",
       " ('DBO_AUTH_WWW', 0.017601193290687912),\n",
       " ('DBO_AUTH_MB', 0.011431479119154042),\n",
       " ('DBO_OPER_CNT', 0.009599449417897199),\n",
       " ('DBO_REM_CNT', 0.0044888361873776008),\n",
       " ('DBO_PAY_CNT', 0.0082888280437831609),\n",
       " ('DBO_OPER_AMNT', 0.012999738642097591),\n",
       " ('DBO_REM_AMNT', 0.0070654908799533782),\n",
       " ('DBO_PAY_AMNT', 0.011122299864736486),\n",
       " ('CARD_COUNT', 0.036573875672869093),\n",
       " ('CONTRACT_COUNT', 0.039812274188442631)]"
      ]
     },
     "execution_count": 326,
     "metadata": {},
     "output_type": "execute_result"
    }
   ],
   "source": [
    "zip(list(dataset)[1:],clf.feature_importances_)"
   ]
  },
  {
   "cell_type": "code",
   "execution_count": 313,
   "metadata": {},
   "outputs": [
    {
     "name": "stdout",
     "output_type": "stream",
     "text": [
      "1137\n",
      "10520\n",
      "441\n",
      "9933\n",
      "Полнота уходящих\n",
      "0.959766444667\n",
      "Полнота оставшихся\n",
      "0.1027100271\n",
      "Accuracy\n",
      "0.529118060914\n",
      "Precision\n",
      "0.720532319392\n",
      "Recall\n",
      "0.1027100271\n",
      "Fmeasure\n",
      "0.179791271347\n"
     ]
    }
   ],
   "source": [
    "from sklearn import datasets\n",
    "from sklearn.naive_bayes import GaussianNB\n",
    "gnb = GaussianNB()\n",
    "res = gnb.fit(features, goals).predict(predict.drop(['ACTIVE_FLAG'],1))\n",
    "tp = 0\n",
    "fp = 0\n",
    "tn = 0\n",
    "fn = 0\n",
    "for goal, predicted in zip(truval,res):\n",
    "    if bool(goal):\n",
    "        if predicted == 1:           \n",
    "            tp += 1\n",
    "            continue\n",
    "        fn += 1\n",
    "        continue\n",
    "    if bool(predicted):\n",
    "        fp += 1\n",
    "        continue\n",
    "    tn += 1\n",
    "\n",
    "        \n",
    "print(tp)\n",
    "print(tn)\n",
    "print(fp)\n",
    "print(fn)\n",
    "print(\"Полнота уходящих\")\n",
    "print(float(tn)/(tn+fp))\n",
    "\n",
    "print(\"Полнота оставшихся\")\n",
    "print(float(tp)/(tp+fn))\n",
    "\n",
    "print(\"Accuracy\")\n",
    "print(float(tp+tn)/(tp+fp+tn+fn))\n",
    "\n",
    "prec = float(tp)/(tp+fp)\n",
    "recall = float(tp)/(tp+fn)\n",
    "print(\"Precision\")\n",
    "print(prec)\n",
    "print(\"Recall\")\n",
    "print(recall)\n",
    "print(\"Fmeasure\")\n",
    "print (2*prec*recall/(prec+recall))"
   ]
  },
  {
   "cell_type": "code",
   "execution_count": 62,
   "metadata": {},
   "outputs": [],
   "source": [
    "from sklearn.linear_model import LinearRegression\n",
    "clf = LinearRegression(fit_intercept=True, normalize=False, copy_X=True, n_jobs=1)"
   ]
  },
  {
   "cell_type": "code",
   "execution_count": 63,
   "metadata": {},
   "outputs": [
    {
     "data": {
      "text/plain": [
       "LinearRegression(copy_X=True, fit_intercept=True, n_jobs=1, normalize=False)"
      ]
     },
     "execution_count": 63,
     "metadata": {},
     "output_type": "execute_result"
    }
   ],
   "source": [
    "clf.fit(features, goals)"
   ]
  },
  {
   "cell_type": "code",
   "execution_count": 64,
   "metadata": {},
   "outputs": [
    {
     "name": "stdout",
     "output_type": "stream",
     "text": [
      "6946\n",
      "6675\n",
      "4286\n",
      "4124\n",
      "Полнота уходящих\n",
      "0.608977283095\n",
      "Полнота оставшихся\n",
      "0.627461607949\n",
      "Accuracy\n",
      "0.618265171803\n",
      "Precision\n",
      "0.618411680912\n",
      "Recall\n",
      "0.627461607949\n",
      "Fmeasure\n",
      "0.622903775446\n"
     ]
    }
   ],
   "source": [
    "truval = predict['ACTIVE_FLAG'].values\n",
    "r = clf.predict(predict.drop(['ACTIVE_FLAG'],1))\n",
    "res=[]\n",
    "for i in r:\n",
    "    if i>0.5:\n",
    "        res.append(1)\n",
    "        continue\n",
    "    res.append(0)\n",
    "tp = 0\n",
    "fp = 0\n",
    "tn = 0\n",
    "fn = 0\n",
    "for goal, predicted in zip(truval,res):\n",
    "    if bool(goal):\n",
    "        if predicted == 1:           \n",
    "            tp += 1\n",
    "            continue\n",
    "        fn += 1\n",
    "        continue\n",
    "    if bool(predicted):\n",
    "        fp += 1\n",
    "        continue\n",
    "    tn += 1\n",
    "\n",
    "        \n",
    "print(tp)\n",
    "print(tn)\n",
    "print(fp)\n",
    "print(fn)\n",
    "print(\"Полнота уходящих\")\n",
    "print(float(tn)/(tn+fp))\n",
    "\n",
    "print(\"Полнота оставшихся\")\n",
    "print(float(tp)/(tp+fn))\n",
    "\n",
    "print(\"Accuracy\")\n",
    "print(float(tp+tn)/(tp+fp+tn+fn))\n",
    "\n",
    "prec = float(tp)/(tp+fp)\n",
    "recall = float(tp)/(tp+fn)\n",
    "print(\"Precision\")\n",
    "print(prec)\n",
    "print(\"Recall\")\n",
    "print(recall)\n",
    "print(\"Fmeasure\")\n",
    "print (2*prec*recall/(prec+recall))"
   ]
  },
  {
   "cell_type": "code",
   "execution_count": null,
   "metadata": {
    "collapsed": true
   },
   "outputs": [],
   "source": []
  },
  {
   "cell_type": "code",
   "execution_count": null,
   "metadata": {
    "collapsed": true
   },
   "outputs": [],
   "source": []
  },
  {
   "cell_type": "code",
   "execution_count": 212,
   "metadata": {
    "collapsed": true
   },
   "outputs": [],
   "source": [
    "dat = pandas.read_csv('deltasSubstractionCardsContracts.csv',sep=\";|,\", engine=\"python\")\n",
    "dat = dat.drop(['REPORT_MONTH','CLIENT_HASH_ID','GENDER'],1).dropna()"
   ]
  },
  {
   "cell_type": "code",
   "execution_count": 224,
   "metadata": {},
   "outputs": [
    {
     "name": "stdout",
     "output_type": "stream",
     "text": [
      "\n"
     ]
    }
   ],
   "source": [
    "results=[]\n",
    "\n",
    "for clas in tqdm(unique(dat.F1)):\n",
    "    data = dat.loc[dat.F1 == clas].drop(['F1'],1)\n",
    "    nonactive = data.loc[data['ACTIVE_FLAG']==0]\n",
    "    active = data.loc[data['ACTIVE_FLAG']==1].sample(n=len(nonactive),random_state = 1)\n",
    "    dataset = pandas.concat([active,nonactive])\n",
    "    \n",
    "    if(len(dataset) <2):\n",
    "        continue\n",
    "    \n",
    "    train = dataset.sample(n=len(dataset)/2,random_state = 7)\n",
    "    features = train.drop(['ACTIVE_FLAG'],1)\n",
    "    goals = train['ACTIVE_FLAG']\n",
    "    predict = dataset.sample(n=len(dataset)/2,random_state = 191)\n",
    "    \n",
    "    clf = RandomForestClassifier(n_estimators=10)\n",
    "    clf.fit(features, goals)\n",
    "    truval = predict['ACTIVE_FLAG'].values\n",
    "    res = clf.predict(predict.drop(['ACTIVE_FLAG'],1))\n",
    "    tp = 0\n",
    "    fp = 0\n",
    "    tn = 0\n",
    "    fn = 0\n",
    "    for goal, predicted in zip(truval,res):\n",
    "        if bool(goal):\n",
    "            if predicted == 1:           \n",
    "                tp += 1\n",
    "                continue\n",
    "            fn += 1\n",
    "            continue\n",
    "        if bool(predicted):\n",
    "            fp += 1\n",
    "            continue\n",
    "        tn += 1\n",
    "    if (tp+fp==0):\n",
    "        prec = 0\n",
    "    else:\n",
    "        prec = float(tp)/(tp+fp)\n",
    "    if (tp+fn==0):\n",
    "        recall = 0\n",
    "    else:\n",
    "        recall = float(tp)/(tp+fn)    \n",
    "    if (tn+fp==0):\n",
    "        polnuh=0\n",
    "    else:\n",
    "        polnuh=float(tn)/(tn+fp)\n",
    "    \n",
    "    if (tp+fn==0):\n",
    "        polnost=0\n",
    "    else:\n",
    "        polnost=float(tp)/(tp+fn)\n",
    "    \n",
    "    if (tp+tn==0):\n",
    "        acc=0\n",
    "    else:\n",
    "        acc=(float(tp+tn)/(tp+fp+tn+fn))\n",
    "       \n",
    "    if (prec+recall==0):\n",
    "        fm=0\n",
    "    else:\n",
    "        fm=2*prec*recall/(prec+recall)\n",
    "    \n",
    "    results.append([clas,\"forest\",polnuh,polnost,acc,prec,recall,fm])\n",
    "\n",
    "    \n",
    "    gnb = GaussianNB()\n",
    "    res = gnb.fit(features, goals).predict(predict.drop(['ACTIVE_FLAG'],1))\n",
    "    tp = 0\n",
    "    fp = 0\n",
    "    tn = 0\n",
    "    fn = 0\n",
    "    for goal, predicted in zip(truval,res):\n",
    "        if bool(goal):\n",
    "            if predicted == 1:           \n",
    "                tp += 1\n",
    "                continue\n",
    "            fn += 1\n",
    "            continue\n",
    "        if bool(predicted):\n",
    "            fp += 1\n",
    "            continue\n",
    "        tn += 1\n",
    "    if (tp+fp==0):\n",
    "        prec = 0\n",
    "    else:\n",
    "        prec = float(tp)/(tp+fp)\n",
    "    if (tp+fn==0):\n",
    "        recall = 0\n",
    "    else:\n",
    "        recall = float(tp)/(tp+fn)    \n",
    "    if (tn+fp==0):\n",
    "        polnuh=0\n",
    "    else:\n",
    "        polnuh=float(tn)/(tn+fp)\n",
    "    \n",
    "    if (tp+fn==0):\n",
    "        polnost=0\n",
    "    else:\n",
    "        polnost=float(tp)/(tp+fn)\n",
    "    \n",
    "    if (tp+tn==0):\n",
    "        acc=0\n",
    "    else:\n",
    "        acc=(float(tp+tn)/(tp+fp+tn+fn))\n",
    "       \n",
    "    if (prec+recall==0):\n",
    "        fm=0\n",
    "    else:\n",
    "        fm=2*prec*recall/(prec+recall)\n",
    "    \n",
    "    results.append([clas,\"naive\",polnuh,polnost,acc,prec,recall,fm])\n",
    "\n",
    "    cls = sklearn.linear_model.LinearRegression(fit_intercept=True, normalize=False, copy_X=True, n_jobs=1) \n",
    "    clf.fit(features, goals)\n",
    "    \n",
    "    truval = predict['ACTIVE_FLAG'].values\n",
    "    r = clf.predict(predict.drop(['ACTIVE_FLAG'],1))\n",
    "    res=[]\n",
    "    for i in r:\n",
    "        if i>0.5:\n",
    "            res.append(1)\n",
    "            continue\n",
    "        res.append(0)\n",
    "    tp = 0\n",
    "    fp = 0\n",
    "    tn = 0\n",
    "    fn = 0\n",
    "    for goal, predicted in zip(truval,res):\n",
    "        if bool(goal):\n",
    "            if predicted == 1:           \n",
    "                tp += 1\n",
    "                continue\n",
    "            fn += 1\n",
    "            continue\n",
    "        if bool(predicted):\n",
    "            fp += 1\n",
    "            continue\n",
    "        tn += 1\n",
    "    if (tp+fp==0):\n",
    "        prec = 0\n",
    "    else:\n",
    "        prec = float(tp)/(tp+fp)\n",
    "    if (tp+fn==0):\n",
    "        recall = 0\n",
    "    else:\n",
    "        recall = float(tp)/(tp+fn)    \n",
    "    if (tn+fp==0):\n",
    "        polnuh=0\n",
    "    else:\n",
    "        polnuh=float(tn)/(tn+fp)\n",
    "    \n",
    "    if (tp+fn==0):\n",
    "        polnost=0\n",
    "    else:\n",
    "        polnost=float(tp)/(tp+fn)\n",
    "    \n",
    "    if (tp+tn==0):\n",
    "        acc=0\n",
    "    else:\n",
    "        acc=(float(tp+tn)/(tp+fp+tn+fn))\n",
    "       \n",
    "    if (prec+recall==0):\n",
    "        fm=0\n",
    "    else:\n",
    "        fm=2*prec*recall/(prec+recall)\n",
    "    \n",
    "    results.append([clas,\"regression\",polnuh,polnost,acc,prec,recall,fm])\n",
    "\n"
   ]
  },
  {
   "cell_type": "code",
   "execution_count": 14,
   "metadata": {},
   "outputs": [],
   "source": [
    "from sklearn.neighbors import KNeighborsClassifier\n",
    "from sklearn.svm import SVC\n",
    "from sklearn.tree import DecisionTreeClassifier\n",
    "from sklearn.ensemble import RandomForestClassifier, AdaBoostClassifier\n",
    "from sklearn.naive_bayes import GaussianNB\n",
    "from sklearn.discriminant_analysis import QuadraticDiscriminantAnalysis\n",
    "from sklearn.datasets import make_classification"
   ]
  },
  {
   "cell_type": "code",
   "execution_count": 19,
   "metadata": {
    "scrolled": false
   },
   "outputs": [
    {
     "name": "stdout",
     "output_type": "stream",
     "text": [
      "Nearest Neighbors\n",
      "7383\n",
      "7946\n",
      "3015\n",
      "3687\n",
      "Полнота уходящих\n",
      "0.7249338564\n",
      "Полнота оставшихся\n",
      "0.666937669377\n",
      "Accuracy\n",
      "0.695792292678\n",
      "Precision\n",
      "0.710040392383\n",
      "Recall\n",
      "0.666937669377\n",
      "Fmeasure\n",
      "0.687814421465\n",
      " \n",
      " \n",
      "RBF SVM\n",
      "5576\n",
      "10871\n",
      "90\n",
      "5494\n",
      "Полнота уходящих\n",
      "0.99178907034\n",
      "Полнота оставшихся\n",
      "0.503703703704\n",
      "Accuracy\n",
      "0.746538967818\n",
      "Precision\n",
      "0.984115778327\n",
      "Recall\n",
      "0.503703703704\n",
      "Fmeasure\n",
      "0.666347992352\n",
      " \n",
      " \n",
      "Decision Tree\n",
      "6685\n",
      "7858\n",
      "3103\n",
      "4385\n",
      "Полнота уходящих\n",
      "0.716905391844\n",
      "Полнота оставшихся\n",
      "0.603884372177\n",
      "Accuracy\n",
      "0.660115292088\n",
      "Precision\n",
      "0.682979158153\n",
      "Recall\n",
      "0.603884372177\n",
      "Fmeasure\n",
      "0.641001054751\n",
      " \n",
      " \n",
      "Random Forest\n",
      "6337\n",
      "7700\n",
      "3261\n",
      "4733\n",
      "Полнота уходящих\n",
      "0.702490648663\n",
      "Полнота оставшихся\n",
      "0.572448057814\n",
      "Accuracy\n",
      "0.637147655576\n",
      "Precision\n",
      "0.660241717024\n",
      "Recall\n",
      "0.572448057814\n",
      "Fmeasure\n",
      "0.613218502032\n",
      " \n",
      " \n",
      "AdaBoost\n",
      "6779\n",
      "7903\n",
      "3058\n",
      "4291\n",
      "Полнота уходящих\n",
      "0.721010856674\n",
      "Полнота оставшихся\n",
      "0.612375790425\n",
      "Accuracy\n",
      "0.666424583541\n",
      "Precision\n",
      "0.689132865711\n",
      "Recall\n",
      "0.612375790425\n",
      "Fmeasure\n",
      "0.64849093605\n",
      " \n",
      " \n",
      "Naive Bayes\n",
      "1137\n",
      "10520\n",
      "441\n",
      "9933\n",
      "Полнота уходящих\n",
      "0.959766444667\n",
      "Полнота оставшихся\n",
      "0.1027100271\n",
      "Accuracy\n",
      "0.529118060914\n",
      "Precision\n",
      "0.720532319392\n",
      "Recall\n",
      "0.1027100271\n",
      "Fmeasure\n",
      "0.179791271347\n",
      " \n",
      " \n",
      "QDA\n",
      "10457\n",
      "749\n",
      "10212\n",
      "613\n",
      "Полнота уходящих\n",
      "0.0683331812791\n",
      "Полнота оставшихся\n",
      "0.944625112918\n",
      "Accuracy\n",
      "0.508646906632\n",
      "Precision\n",
      "0.505926750206\n",
      "Recall\n",
      "0.944625112918\n",
      "Fmeasure\n",
      "0.658936954535\n",
      " \n",
      " \n"
     ]
    }
   ],
   "source": [
    "names = [\"Nearest Neighbors\", \"RBF SVM\",\n",
    "         \"Decision Tree\", \"Random Forest\", \"AdaBoost\",\n",
    "         \"Naive Bayes\", \"QDA\"]\n",
    "\n",
    "classifiers = [\n",
    "    KNeighborsClassifier(3),\n",
    "    SVC(gamma=2, C=1),\n",
    "    DecisionTreeClassifier(max_depth=5),\n",
    "    RandomForestClassifier(max_depth=5, n_estimators=10, max_features=1),\n",
    "    AdaBoostClassifier(),\n",
    "    GaussianNB(),\n",
    "    QuadraticDiscriminantAnalysis()]\n",
    "\n",
    "X, y = make_classification(n_features=2, n_redundant=0, n_informative=2,\n",
    "                           random_state=1, n_clusters_per_class=1)\n",
    "\n",
    "truval = predict['ACTIVE_FLAG'].values\n",
    "\n",
    "# iterate over classifiers\n",
    "for name, clf in zip(names, classifiers):\n",
    "    clf.fit(features, goals)\n",
    "    res = clf.predict(predict.drop(['ACTIVE_FLAG'],1))\n",
    "    print(name)\n",
    "    tp = 0\n",
    "    fp = 0\n",
    "    tn = 0\n",
    "    fn = 0\n",
    "    for goal, predicted in zip(truval,res):\n",
    "        if bool(goal):\n",
    "            if predicted == 1:           \n",
    "                tp += 1\n",
    "                continue\n",
    "            fn += 1\n",
    "            continue\n",
    "        if bool(predicted):\n",
    "            fp += 1\n",
    "            continue\n",
    "        tn += 1\n",
    "            \n",
    "    print(tp)\n",
    "    print(tn)\n",
    "    print(fp)\n",
    "    print(fn)\n",
    "    print(\"Полнота уходящих\")\n",
    "    print(float(tn)/(tn+fp))\n",
    "    \n",
    "    print(\"Полнота оставшихся\")\n",
    "    print(float(tp)/(tp+fn))\n",
    "    \n",
    "    print(\"Accuracy\")\n",
    "    print(float(tp+tn)/(tp+fp+tn+fn))\n",
    "    \n",
    "    prec = float(tp)/(tp+fp)\n",
    "    recall = float(tp)/(tp+fn)\n",
    "    print(\"Precision\")\n",
    "    print(prec)\n",
    "    print(\"Recall\")\n",
    "    print(recall)\n",
    "    print(\"Fmeasure\")\n",
    "    print (2*prec*recall/(prec+recall))\n",
    "    print(\" \")\n",
    "    print(\" \")"
   ]
  },
  {
   "cell_type": "code",
   "execution_count": null,
   "metadata": {
    "collapsed": true
   },
   "outputs": [],
   "source": []
  }
 ],
 "metadata": {
  "anaconda-cloud": {},
  "kernelspec": {
   "display_name": "Python 2",
   "language": "python",
   "name": "python2"
  },
  "language_info": {
   "codemirror_mode": {
    "name": "ipython",
    "version": 2
   },
   "file_extension": ".py",
   "mimetype": "text/x-python",
   "name": "python",
   "nbconvert_exporter": "python",
   "pygments_lexer": "ipython2",
   "version": "2.7.14"
  }
 },
 "nbformat": 4,
 "nbformat_minor": 2
}
