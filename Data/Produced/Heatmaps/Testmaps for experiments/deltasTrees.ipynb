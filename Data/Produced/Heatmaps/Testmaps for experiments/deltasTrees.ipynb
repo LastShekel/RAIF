{
 "cells": [
  {
   "cell_type": "code",
   "execution_count": 114,
   "metadata": {
    "collapsed": true
   },
   "outputs": [],
   "source": [
    "import pandas\n",
    "import numpy as np\n",
    "import sklearn"
   ]
  },
  {
   "cell_type": "code",
   "execution_count": 99,
   "metadata": {
    "collapsed": true
   },
   "outputs": [],
   "source": [
    "data = pandas.read_csv('deltasSubstraction.csv',sep=\";|,\", engine=\"python\")"
   ]
  },
  {
   "cell_type": "code",
   "execution_count": 100,
   "metadata": {
    "collapsed": false
   },
   "outputs": [],
   "source": [
    "data = data.drop(['REPORT_MONTH','CLIENT_HASH_ID','GENDER','F1','AGE'],1)"
   ]
  },
  {
   "cell_type": "code",
   "execution_count": 101,
   "metadata": {
    "collapsed": false
   },
   "outputs": [],
   "source": [
    "active = data.loc[data['ACTIVE_FLAG']==1].sample(n=22031,random_state = 1)\n",
    "nonactive = data.loc[data['ACTIVE_FLAG']==0]\n",
    "dataset = pandas.concat([active,nonactive])"
   ]
  },
  {
   "cell_type": "code",
   "execution_count": 102,
   "metadata": {
    "collapsed": true
   },
   "outputs": [],
   "source": [
    "from sklearn.tree import DecisionTreeClassifier\n",
    "clf = DecisionTreeClassifier()\n",
    "from sklearn.ensemble import RandomForestClassifier\n",
    "clf = RandomForestClassifier(n_estimators=100)"
   ]
  },
  {
   "cell_type": "code",
   "execution_count": 104,
   "metadata": {
    "collapsed": false
   },
   "outputs": [],
   "source": [
    "train = dataset.sample(n=22031,random_state = 7)\n",
    "features = train.drop(['ACTIVE_FLAG'],1)\n",
    "goals = train['ACTIVE_FLAG']\n",
    "predict = dataset.sample(n=22031,random_state = 191)"
   ]
  },
  {
   "cell_type": "code",
   "execution_count": 117,
   "metadata": {
    "collapsed": true
   },
   "outputs": [],
   "source": [
    "#train = data\n",
    "#features = train.drop(['ACTIVE_FLAG'],1)\n",
    "#goals = train['ACTIVE_FLAG']\n",
    "#predict = data"
   ]
  },
  {
   "cell_type": "code",
   "execution_count": 118,
   "metadata": {
    "collapsed": false
   },
   "outputs": [
    {
     "data": {
      "text/plain": [
       "RandomForestClassifier(bootstrap=True, class_weight=None, criterion='gini',\n",
       "            max_depth=None, max_features='auto', max_leaf_nodes=None,\n",
       "            min_samples_leaf=1, min_samples_split=2,\n",
       "            min_weight_fraction_leaf=0.0, n_estimators=100, n_jobs=1,\n",
       "            oob_score=False, random_state=None, verbose=0,\n",
       "            warm_start=False)"
      ]
     },
     "execution_count": 118,
     "metadata": {},
     "output_type": "execute_result"
    }
   ],
   "source": [
    "clf.fit(features, goals)"
   ]
  },
  {
   "cell_type": "code",
   "execution_count": 119,
   "metadata": {
    "collapsed": false
   },
   "outputs": [
    {
     "name": "stdout",
     "output_type": "stream",
     "text": [
      "574182\n",
      "16311\n",
      "5720\n",
      "162\n",
      "Полнота уходящих\n",
      "0.740365848123\n",
      "Полнота оставшихся\n",
      "0.999717939075\n",
      "Accuracy\n",
      "0.990137078181\n",
      "Precision\n",
      "0.990136264403\n",
      "Recall\n",
      "0.999717939075\n",
      "Fmeasure\n",
      "0.994904032589\n"
     ]
    }
   ],
   "source": [
    "truval = predict['ACTIVE_FLAG'].values\n",
    "res = clf.predict(predict.drop(['ACTIVE_FLAG'],1))\n",
    "tp = 0\n",
    "fp = 0\n",
    "tn = 0\n",
    "fn = 0\n",
    "for goal, predicted in zip(truval,res):\n",
    "    if bool(goal):\n",
    "        if predicted == 1:           \n",
    "            tp += 1\n",
    "            continue\n",
    "        fn += 1\n",
    "        continue\n",
    "    if bool(predicted):\n",
    "        fp += 1\n",
    "        continue\n",
    "    tn += 1\n",
    "\n",
    "        \n",
    "print(tp)\n",
    "print(tn)\n",
    "print(fp)\n",
    "print(fn)\n",
    "print(\"Полнота уходящих\")\n",
    "print(float(tn)/(tn+fp))\n",
    "\n",
    "print(\"Полнота оставшихся\")\n",
    "print(float(tp)/(tp+fn))\n",
    "\n",
    "print(\"Accuracy\")\n",
    "print(float(tp+tn)/(tp+fp+tn+fn))\n",
    "\n",
    "prec = float(tp)/(tp+fp)\n",
    "recall = float(tp)/(tp+fn)\n",
    "print(\"Precision\")\n",
    "print(prec)\n",
    "print(\"Recall\")\n",
    "print(recall)\n",
    "print(\"Fmeasure\")\n",
    "print (2*prec*recall/(prec+recall))"
   ]
  },
  {
   "cell_type": "code",
   "execution_count": 120,
   "metadata": {
    "collapsed": false
   },
   "outputs": [
    {
     "data": {
      "text/plain": [
       "1    574344\n",
       "0     22031\n",
       "Name: ACTIVE_FLAG, dtype: int64"
      ]
     },
     "execution_count": 120,
     "metadata": {},
     "output_type": "execute_result"
    }
   ],
   "source": [
    "predict.ACTIVE_FLAG.value_counts()"
   ]
  },
  {
   "cell_type": "code",
   "execution_count": 121,
   "metadata": {
    "collapsed": false
   },
   "outputs": [
    {
     "data": {
      "text/plain": [
       "[('TRN_CNT', 0.068432749483244959),\n",
       " ('TRN_CNT_POS', 0.060304934581320593),\n",
       " ('TRN_CNT_ATM', 0.047064273570761796),\n",
       " ('TRN_AMNT', 0.18090073925781394),\n",
       " ('TRN_AMNT_POS', 0.12594163949163006),\n",
       " ('TRN_AMNT_ATM', 0.15991080911191227),\n",
       " ('CONTRACT_TURN_AMOUNT', 0.17844377060845448),\n",
       " ('SALARY_INCOME', 0.040968206800416629),\n",
       " ('DBO_AUTH_WWW', 0.033868940003132737),\n",
       " ('DBO_AUTH_MB', 0.025710017330682438),\n",
       " ('DBO_OPER_CNT', 0.012450312287105879),\n",
       " ('DBO_REM_CNT', 0.0068308713503501791),\n",
       " ('DBO_PAY_CNT', 0.011149505966238331),\n",
       " ('DBO_OPER_AMNT', 0.02073702658829887),\n",
       " ('DBO_REM_AMNT', 0.012241299132517399),\n",
       " ('DBO_PAY_AMNT', 0.015044904436119486)]"
      ]
     },
     "execution_count": 121,
     "metadata": {},
     "output_type": "execute_result"
    }
   ],
   "source": [
    "zip(list(dataset)[1:],clf.feature_importances_)"
   ]
  },
  {
   "cell_type": "code",
   "execution_count": null,
   "metadata": {
    "collapsed": true
   },
   "outputs": [],
   "source": []
  }
 ],
 "metadata": {
  "anaconda-cloud": {},
  "kernelspec": {
   "display_name": "Python [conda root]",
   "language": "python",
   "name": "conda-root-py"
  },
  "language_info": {
   "codemirror_mode": {
    "name": "ipython",
    "version": 2
   },
   "file_extension": ".py",
   "mimetype": "text/x-python",
   "name": "python",
   "nbconvert_exporter": "python",
   "pygments_lexer": "ipython2",
   "version": "2.7.12"
  }
 },
 "nbformat": 4,
 "nbformat_minor": 2
}
